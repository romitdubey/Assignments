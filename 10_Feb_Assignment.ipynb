{
 "cells": [
  {
   "cell_type": "markdown",
   "id": "42d482d1-4912-441e-8257-3bad68b5595d",
   "metadata": {},
   "source": [
    "Q1. Which function is used to open a file? What are the different modes of opening a file? Explain each mode\n",
    "of file opening."
   ]
  },
  {
   "cell_type": "markdown",
   "id": "77025a7b-03e1-432f-8885-3bc42aec2c7c",
   "metadata": {},
   "source": [
    "In Python, the built-in function open() is used to open a file. The function takes two arguments: the name of the file, and the mode in which the file is opened. The mode is an optional argument, and if it is not specified, the default mode is 'r' (read-only).\n",
    "\n",
    "The different modes of opening a file in Python are:\n",
    "\n",
    "'r' - read-only mode (default)\n",
    "\n",
    "In this mode, the file is opened for reading only, and you cannot write to the file.\n",
    "'w' - write mode\n",
    "\n",
    "In this mode, the file is opened for writing, and any data that was previously in the file is truncated (deleted). If the file does not exist, a new file is created.\n",
    "'a' - append mode\n",
    "\n",
    "In this mode, the file is opened for writing, and any data written to the file is appended to the end of the file. If the file does not exist, a new file is created.\n",
    "'x' - exclusive creation mode\n",
    "\n",
    "In this mode, a new file is created for writing. If the file already exists, the operation fails, and an error is raised. This mode is useful when you want to ensure that a file is created only if it does not already exist.\n",
    "'b' - binary mode\n",
    "\n",
    "This mode is used when you want to read or write binary data, such as images, audio files, etc. The 'b' mode should be used in conjunction with one of the other modes, for example, 'rb' for reading binary data, or 'wb' for writing binary data.\n",
    "'t' - text mode\n",
    "\n",
    "This mode is used when you want to read or write text data, such as text files. The 't' mode should be used in conjunction with one of the other modes, for example, 'rt' for reading text data, or 'wt' for writing text data."
   ]
  },
  {
   "cell_type": "markdown",
   "id": "e15337ea-4f4f-4794-b1e5-3fe85dac431b",
   "metadata": {},
   "source": [
    "Q2. Why close() function is used? Why is it important to close a file?"
   ]
  },
  {
   "cell_type": "code",
   "execution_count": 3,
   "id": "0c57924b-2f8f-433a-9134-77f040ab087b",
   "metadata": {},
   "outputs": [
    {
     "data": {
      "text/plain": [
       "'The close() function is used to close an open file in Python. It is important to close a\\nfile because it frees up resources and ensures that any changes you have made to the file are\\nproperly saved.'"
      ]
     },
     "execution_count": 3,
     "metadata": {},
     "output_type": "execute_result"
    }
   ],
   "source": [
    "'''The close() function is used to close an open file in Python. It is important to close a\n",
    "file because it frees up resources and ensures that any changes you have made to the file are\n",
    "properly saved.'''"
   ]
  },
  {
   "cell_type": "markdown",
   "id": "53554966-d95a-4ae8-a235-2fa6ed02cca3",
   "metadata": {},
   "source": [
    "Q3. Write a python program to create a text file. Write ‘I want to become a Data Scientist’ in that file. Then\n",
    "close the file. Open this file and read the content of the file."
   ]
  },
  {
   "cell_type": "code",
   "execution_count": 11,
   "id": "83f120f5-498c-4a3b-8f65-544e1b31a03b",
   "metadata": {},
   "outputs": [
    {
     "name": "stdout",
     "output_type": "stream",
     "text": [
      "I want to become a Data Scientist\n"
     ]
    }
   ],
   "source": [
    "with open(\"test.txt\", 'w') as f:\n",
    "    f.write('I want to become a Data Scientist')\n",
    "    f.close()\n",
    "with open('test.txt', 'r') as f:\n",
    "    print(f.read())"
   ]
  },
  {
   "cell_type": "markdown",
   "id": "7c14df97-b146-44c6-9475-ddeef2579a7c",
   "metadata": {},
   "source": [
    "Q4. Explain the following with python code: read(), readline() and readlines()."
   ]
  },
  {
   "cell_type": "code",
   "execution_count": 18,
   "id": "1bcdced0-eb2f-4f25-9ac9-8693077f3e10",
   "metadata": {},
   "outputs": [
    {
     "name": "stdout",
     "output_type": "stream",
     "text": [
      "I want to become a Data Scientist\n",
      "I want to become a Data Scientist\n",
      "I want to become a Data Scientist\n"
     ]
    }
   ],
   "source": [
    "#1. read(): The read() method reads the entire contents of a file and returns it as a string.\n",
    "\n",
    "with open(\"test.txt\", 'r') as f:\n",
    "    print(f.read())\n",
    "    \n",
    "#2. readline(): The readline() method reads a single line from the file and returns it as a string.\n",
    "\n",
    "with open(\"test.txt\", \"r\") as f:\n",
    "    line = f.readline()\n",
    "    while line:\n",
    "        print(line)\n",
    "        line = f.readline()   \n",
    "        \n",
    "# 3.The readlines() method reads the entire contents of a file and returns it as a list of strings, where each string is a line from the file.\n",
    "\n",
    "with open(\"test.txt\", \"r\") as f:\n",
    "    lines = f.readlines()\n",
    "    for line in lines:\n",
    "        print(line)\n"
   ]
  },
  {
   "cell_type": "markdown",
   "id": "ab101212-7536-414e-b086-1c71a4d55c76",
   "metadata": {},
   "source": [
    "Q5. Explain why with statement is used with open(). What is the advantage of using with statement and\n",
    "open() together?"
   ]
  },
  {
   "cell_type": "code",
   "execution_count": 19,
   "id": "2cb7c49d-039d-49d4-845e-9e7a3eae84c7",
   "metadata": {},
   "outputs": [
    {
     "data": {
      "text/plain": [
       "'The advantage of using the with statement with the open() function is that it makes it easy to ensure\\nthat the file is properly closed, even if something goes wrong while you are using it. This helps to prevent\\nresource leaks and ensures that the file is properly updated, even if your code encounters an error.\\nAdditionally, using the with statement can make your code cleaner and more concise, as you do not need\\nto explicitly call the close() method on the file.'"
      ]
     },
     "execution_count": 19,
     "metadata": {},
     "output_type": "execute_result"
    }
   ],
   "source": [
    "'''The with statement is used in conjunction with the open() function in Python to ensure that the file\n",
    "is properly closed after it has been used.'''\n",
    "\n",
    "'''The advantage of using the with statement with the open() function is that it makes it easy to ensure\n",
    "that the file is properly closed, even if something goes wrong while you are using it. This helps to prevent\n",
    "resource leaks and ensures that the file is properly updated, even if your code encounters an error.\n",
    "Additionally, using the with statement can make your code cleaner and more concise, as you do not need\n",
    "to explicitly call the close() method on the file.'''"
   ]
  },
  {
   "cell_type": "markdown",
   "id": "06ee3d1b-0fcb-44fa-8c78-98a0df4da7db",
   "metadata": {},
   "source": [
    "Q6. Explain the write() and writelines() functions. Give a suitable example."
   ]
  },
  {
   "cell_type": "code",
   "execution_count": 20,
   "id": "08ac5a64-b0b7-4cbb-84de-1c53586f632d",
   "metadata": {},
   "outputs": [],
   "source": [
    "#1. write(): The write() function writes a string to a file.\n",
    "\n",
    "with open(\"file.txt\", \"w\") as f:\n",
    "    f.write(\"This is the first line.\\n\")\n",
    "    f.write(\"This is the second line.\\n\")\n",
    "    \n",
    "    \n",
    "#2. The writelines() function writes a list of strings to a file. Here's an example:\n",
    "\n",
    "lines = [\"This is the first line.\\n\", \"This is the second line.\\n\"]\n",
    "\n",
    "with open(\"file.txt\", \"w\") as f:\n",
    "    f.writelines(lines)\n"
   ]
  },
  {
   "cell_type": "code",
   "execution_count": null,
   "id": "1351e37a-3bee-46be-9f98-206c715752e9",
   "metadata": {},
   "outputs": [],
   "source": []
  }
 ],
 "metadata": {
  "kernelspec": {
   "display_name": "Python 3 (ipykernel)",
   "language": "python",
   "name": "python3"
  },
  "language_info": {
   "codemirror_mode": {
    "name": "ipython",
    "version": 3
   },
   "file_extension": ".py",
   "mimetype": "text/x-python",
   "name": "python",
   "nbconvert_exporter": "python",
   "pygments_lexer": "ipython3",
   "version": "3.10.8"
  }
 },
 "nbformat": 4,
 "nbformat_minor": 5
}
