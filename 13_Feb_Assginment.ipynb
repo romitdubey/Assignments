{
 "cells": [
  {
   "cell_type": "markdown",
   "id": "4398afca-ee77-4183-bbed-ee4d678cf35a",
   "metadata": {},
   "source": [
    "Q1. Explain why we have to use the Exception class while creating a Custom Exception."
   ]
  },
  {
   "cell_type": "code",
   "execution_count": 1,
   "id": "68cdef7f-01a6-469f-be2a-111b5c58042e",
   "metadata": {},
   "outputs": [
    {
     "data": {
      "text/plain": [
       "\"When creating a custom exception in a programming language, it is typically best practice to derive\\nthe new exception class from the language's built-in Exception class. This is because the Exception\\nclass provides useful functionality, such as storing a message to describe the error and a stack trace\\nof the code that triggered the exception, that can be leveraged by the custom exception to provide more\\ninformative error messages and facilitate debugging. Additionally, by inheriting from the Exception class,\\nthe new custom exception can be caught and handled in the same way as other exceptions, using the language's\\ntry-catch mechanism.\""
      ]
     },
     "execution_count": 1,
     "metadata": {},
     "output_type": "execute_result"
    }
   ],
   "source": [
    "'''When creating a custom exception in a programming language, it is typically best practice to derive\n",
    "the new exception class from the language's built-in Exception class. This is because the Exception\n",
    "class provides useful functionality, such as storing a message to describe the error and a stack trace\n",
    "of the code that triggered the exception, that can be leveraged by the custom exception to provide more\n",
    "informative error messages and facilitate debugging. Additionally, by inheriting from the Exception class,\n",
    "the new custom exception can be caught and handled in the same way as other exceptions, using the language's\n",
    "try-catch mechanism.'''"
   ]
  },
  {
   "cell_type": "markdown",
   "id": "8b77c2e1-f1c9-476f-9796-6d8cd9028f6b",
   "metadata": {},
   "source": [
    "Q2. Write a python program to print Python Exception Hierarchy."
   ]
  },
  {
   "cell_type": "markdown",
   "id": "32b28cac-803b-4aa5-b207-3e60a50e6e42",
   "metadata": {},
   "source": [
    "Q3. What errors are defined in the ArithmeticError class? Explain any two with an example."
   ]
  },
  {
   "cell_type": "code",
   "execution_count": null,
   "id": "8fabdc49-4772-45c9-a63e-1e74dafdf5e1",
   "metadata": {},
   "outputs": [
    {
     "name": "stdout",
     "output_type": "stream",
     "text": [
      "division by zero\n",
      "invalid literal for int() with base 10: 'abc'\n"
     ]
    }
   ],
   "source": [
    "'''The ArithmeticError class is a built-in Python exception class that is the base class for errors that occur\n",
    "during arithmetic operations. Here are two examples of errors that are defined in the ArithmeticError class:'''\n",
    "\n",
    "#Zero Division Error\n",
    "try: \n",
    "    1/0\n",
    "except ZeroDivisionError as e:\n",
    "    print(e)\n",
    "    \n",
    "#Value Erro\n",
    "\n",
    "try:\n",
    "    int(\"abc\")\n",
    "except ValueError as e:\n",
    "    print(e)\n"
   ]
  },
  {
   "cell_type": "markdown",
   "id": "3fd881dc-72dd-45a3-993c-8b47359c8ccf",
   "metadata": {},
   "source": [
    "Q4. Why LookupError class is used? Explain with an example KeyError and IndexError."
   ]
  },
  {
   "cell_type": "code",
   "execution_count": 4,
   "id": "fcd7ba76-6fa4-4863-8363-1bc69066994e",
   "metadata": {},
   "outputs": [
    {
     "name": "stdout",
     "output_type": "stream",
     "text": [
      "'d'\n",
      "list index out of range\n"
     ]
    }
   ],
   "source": [
    "'''The LookupError class is a built-in Python exception class that is the base class for errors that occur\n",
    "when a lookup operation fails, such as trying to access a non-existent key in a dictionary or an out-of-bounds\n",
    "index in a sequence.'''\n",
    "\n",
    "#KeyError\n",
    "\n",
    "try:\n",
    "    my_dict = {'a': 1, 'b': 2, 'c': 3}\n",
    "    my_dict['d']\n",
    "except KeyError as e:\n",
    "    print(e)\n",
    "    \n",
    "#IndexError\n",
    "\n",
    "try:\n",
    "    l = [1,2,3,4,5,6]\n",
    "    l[8]\n",
    "except IndexError as e:\n",
    "    print(e)"
   ]
  },
  {
   "cell_type": "markdown",
   "id": "4f3a95c8-9829-45c8-8a00-c419759074b4",
   "metadata": {},
   "source": [
    "Q5. Explain ImportError. What is ModuleNotFoundError?"
   ]
  },
  {
   "cell_type": "code",
   "execution_count": 5,
   "id": "c06f8ce2-7909-4faa-9b52-a706c4130054",
   "metadata": {},
   "outputs": [
    {
     "name": "stdout",
     "output_type": "stream",
     "text": [
      "No module named 'sudh'\n"
     ]
    }
   ],
   "source": [
    "'''ImportError is a built-in Python exception that is raised when an import statement fails to import a module.\n",
    "This can happen for a variety of reasons, such as the module not existing, the file not being accessible, or the\n",
    "module not being on the search path.'''\n",
    "\n",
    "#Example\n",
    "\n",
    "try:\n",
    "    import sudh\n",
    "except ModuleNotFoundError as e:\n",
    "    print(e)"
   ]
  },
  {
   "cell_type": "markdown",
   "id": "cb7c0a41-b2db-4447-a19e-031f831c0f9e",
   "metadata": {},
   "source": [
    "Q6. List down some best practices for exception handling in python."
   ]
  },
  {
   "cell_type": "code",
   "execution_count": 7,
   "id": "136f92e9-0ad5-4b92-8627-9de751e8ed5c",
   "metadata": {},
   "outputs": [
    {
     "data": {
      "text/plain": [
       "'1. Use specific exceptions\\n2.Catch exceptions at the appropriate level\\n3. Keep error messages clear and concise\\n4.Use the finally block'"
      ]
     },
     "execution_count": 7,
     "metadata": {},
     "output_type": "execute_result"
    }
   ],
   "source": [
    "#Here are some best practices for exception handling in Python:\n",
    "\n",
    "'''1. Use specific exceptions\n",
    "2.Catch exceptions at the appropriate level\n",
    "3. Keep error messages clear and concise\n",
    "4.Use the finally block'''"
   ]
  }
 ],
 "metadata": {
  "kernelspec": {
   "display_name": "Python 3 (ipykernel)",
   "language": "python",
   "name": "python3"
  },
  "language_info": {
   "codemirror_mode": {
    "name": "ipython",
    "version": 3
   },
   "file_extension": ".py",
   "mimetype": "text/x-python",
   "name": "python",
   "nbconvert_exporter": "python",
   "pygments_lexer": "ipython3",
   "version": "3.10.8"
  }
 },
 "nbformat": 4,
 "nbformat_minor": 5
}
