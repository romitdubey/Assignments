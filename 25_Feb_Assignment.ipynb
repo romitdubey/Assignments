{
 "cells": [
  {
   "cell_type": "markdown",
   "id": "e03b200a-a5ae-4c02-88a9-e5e26a4de0d6",
   "metadata": {},
   "source": [
    "Consider following code to answer further questions:\n",
    "\n",
    "import pandas as pd\n",
    "\n",
    "course_name = ['Data Science', 'Machine Learning', 'Big Data', 'Data Engineer']\n",
    "\n",
    "duration = [2,3,6,4]\n",
    "\n",
    "df = pd.DataFrame(data = {'course_name' : course_name, 'duration' : duration})"
   ]
  },
  {
   "cell_type": "code",
   "execution_count": 2,
   "id": "2caba499-19d3-446b-b9ec-ecfb5b7648f8",
   "metadata": {},
   "outputs": [],
   "source": [
    "import pandas as pd\n",
    "course_name = ['Data Science', 'Machine Learning', 'Big Data', 'Data Engineer']\n",
    "duration = [2,3,6,4]\n",
    "df = pd.DataFrame(data = {'course_name' : course_name, 'duration' : duration})"
   ]
  },
  {
   "cell_type": "markdown",
   "id": "0905720f-8dba-400c-b041-e0c8eb77b34a",
   "metadata": {},
   "source": [
    "Q1. Write a code to print the data present in the second row of the dataframe, df."
   ]
  },
  {
   "cell_type": "code",
   "execution_count": 22,
   "id": "d7d34af7-c729-4b24-8a2f-50a1135f918c",
   "metadata": {},
   "outputs": [
    {
     "data": {
      "text/html": [
       "<div>\n",
       "<style scoped>\n",
       "    .dataframe tbody tr th:only-of-type {\n",
       "        vertical-align: middle;\n",
       "    }\n",
       "\n",
       "    .dataframe tbody tr th {\n",
       "        vertical-align: top;\n",
       "    }\n",
       "\n",
       "    .dataframe thead th {\n",
       "        text-align: right;\n",
       "    }\n",
       "</style>\n",
       "<table border=\"1\" class=\"dataframe\">\n",
       "  <thead>\n",
       "    <tr style=\"text-align: right;\">\n",
       "      <th></th>\n",
       "      <th>course_name</th>\n",
       "      <th>duration</th>\n",
       "    </tr>\n",
       "  </thead>\n",
       "  <tbody>\n",
       "    <tr>\n",
       "      <th>1</th>\n",
       "      <td>Machine Learning</td>\n",
       "      <td>3</td>\n",
       "    </tr>\n",
       "  </tbody>\n",
       "</table>\n",
       "</div>"
      ],
      "text/plain": [
       "        course_name  duration\n",
       "1  Machine Learning         3"
      ]
     },
     "execution_count": 22,
     "metadata": {},
     "output_type": "execute_result"
    }
   ],
   "source": [
    "df[1:2]"
   ]
  },
  {
   "cell_type": "markdown",
   "id": "7ffa3d4f-b955-459b-9dc7-5ff2711b6445",
   "metadata": {},
   "source": [
    "Q2. What is the difference between the functions loc and iloc in pandas.DataFrame?"
   ]
  },
  {
   "cell_type": "markdown",
   "id": "673de852-d27f-48d8-a11e-54747d9fa5a3",
   "metadata": {},
   "source": [
    "loc function:\n",
    "\n",
    "The loc function is label-based, meaning that it selects data based on row labels and column names.\n",
    "It is used to select rows and columns based on their labels or boolean arrays.\n",
    "The syntax for using loc function is df.loc[row_label, column_label].\n",
    "Here, the row_label can be either a single label or a list of labels, and the column_label can be either a single label or a list of labels.\n",
    "\n",
    "iloc function:\n",
    "\n",
    "The iloc function is integer-based, meaning that it selects data based on the integer index of rows and columns.\n",
    "It is used to select rows and columns based on their integer positions.\n",
    "The syntax for using iloc function is df.iloc[row_index, column_index].\n",
    "Here, the row_index can be either a single index or a list of indexes, and the column_index can be either a single index or a list of indexes.\n",
    "To summarize, the main difference between loc and iloc is that loc uses labels to select data while iloc uses integer positions to select data."
   ]
  },
  {
   "cell_type": "markdown",
   "id": "801e8ee0-efb4-479b-9291-4fc5dfe571dc",
   "metadata": {},
   "source": [
    "Q3. Reindex the given dataframe using a variable, reindex = [3,0,1,2] and store it in the variable, new_df\n",
    "then find the output for both new_df.loc[2] and new_df.iloc[2].\n",
    "\n",
    "Did you observe any difference in both the outputs? If so then explain it."
   ]
  },
  {
   "cell_type": "code",
   "execution_count": 26,
   "id": "2df31b9e-cbe7-49be-b475-e6db341bbcb7",
   "metadata": {},
   "outputs": [
    {
     "name": "stdout",
     "output_type": "stream",
     "text": [
      "course_name    Big Data\n",
      "duration              6\n",
      "Name: 2, dtype: object\n",
      "course_name    Machine Learning\n",
      "duration                      3\n",
      "Name: 1, dtype: object\n"
     ]
    }
   ],
   "source": [
    "new_index=[3,0,1,2]\n",
    "new_df=df.reindex(new_index)\n",
    "print(new_df.loc[2])\n",
    "print(new_df.iloc[2])"
   ]
  },
  {
   "cell_type": "markdown",
   "id": "49071940-87e8-4b03-b024-e8bc4eaa5c30",
   "metadata": {},
   "source": [
    "As we can see, the outputs for new_df.loc[2] and new_df.iloc[2] are different.\n",
    "\n",
    "new_df.loc[2] selects the row with label 2 from the DataFrame new_df, which is the third row after reindexing. Therefore, the output is a Series with index labels A and B and values 3 and 7.\n",
    "\n",
    "new_df.iloc[2] selects the third row from the DataFrame new_df based on its integer position, which is the row with index 1 after reindexing. Therefore, the output is a Series with index labels A and B and values 2 and 6.\n",
    "\n",
    "The difference in output is because loc and iloc select data based on different methods, as explained in the answer to the previous question. loc selects data based on labels while iloc selects data based on integer positions."
   ]
  },
  {
   "cell_type": "code",
   "execution_count": 1,
   "id": "c1707b62-5525-4ae1-9e39-8af0b7a1ce39",
   "metadata": {},
   "outputs": [
    {
     "data": {
      "text/html": [
       "<div>\n",
       "<style scoped>\n",
       "    .dataframe tbody tr th:only-of-type {\n",
       "        vertical-align: middle;\n",
       "    }\n",
       "\n",
       "    .dataframe tbody tr th {\n",
       "        vertical-align: top;\n",
       "    }\n",
       "\n",
       "    .dataframe thead th {\n",
       "        text-align: right;\n",
       "    }\n",
       "</style>\n",
       "<table border=\"1\" class=\"dataframe\">\n",
       "  <thead>\n",
       "    <tr style=\"text-align: right;\">\n",
       "      <th></th>\n",
       "      <th>column_1</th>\n",
       "      <th>column_2</th>\n",
       "      <th>column_3</th>\n",
       "      <th>column_4</th>\n",
       "      <th>column_5</th>\n",
       "      <th>column_6</th>\n",
       "    </tr>\n",
       "  </thead>\n",
       "  <tbody>\n",
       "    <tr>\n",
       "      <th>1</th>\n",
       "      <td>0.473172</td>\n",
       "      <td>0.671279</td>\n",
       "      <td>0.101541</td>\n",
       "      <td>0.347665</td>\n",
       "      <td>0.032133</td>\n",
       "      <td>0.751002</td>\n",
       "    </tr>\n",
       "    <tr>\n",
       "      <th>2</th>\n",
       "      <td>0.943430</td>\n",
       "      <td>0.176459</td>\n",
       "      <td>0.197266</td>\n",
       "      <td>0.289557</td>\n",
       "      <td>0.063104</td>\n",
       "      <td>0.873459</td>\n",
       "    </tr>\n",
       "    <tr>\n",
       "      <th>3</th>\n",
       "      <td>0.883157</td>\n",
       "      <td>0.115247</td>\n",
       "      <td>0.388464</td>\n",
       "      <td>0.159396</td>\n",
       "      <td>0.506363</td>\n",
       "      <td>0.098077</td>\n",
       "    </tr>\n",
       "    <tr>\n",
       "      <th>4</th>\n",
       "      <td>0.560058</td>\n",
       "      <td>0.350684</td>\n",
       "      <td>0.821986</td>\n",
       "      <td>0.803434</td>\n",
       "      <td>0.934048</td>\n",
       "      <td>0.460979</td>\n",
       "    </tr>\n",
       "    <tr>\n",
       "      <th>5</th>\n",
       "      <td>0.628418</td>\n",
       "      <td>0.161669</td>\n",
       "      <td>0.018547</td>\n",
       "      <td>0.233206</td>\n",
       "      <td>0.035678</td>\n",
       "      <td>0.536976</td>\n",
       "    </tr>\n",
       "    <tr>\n",
       "      <th>6</th>\n",
       "      <td>0.326006</td>\n",
       "      <td>0.739832</td>\n",
       "      <td>0.554450</td>\n",
       "      <td>0.527540</td>\n",
       "      <td>0.505558</td>\n",
       "      <td>0.960666</td>\n",
       "    </tr>\n",
       "  </tbody>\n",
       "</table>\n",
       "</div>"
      ],
      "text/plain": [
       "   column_1  column_2  column_3  column_4  column_5  column_6\n",
       "1  0.473172  0.671279  0.101541  0.347665  0.032133  0.751002\n",
       "2  0.943430  0.176459  0.197266  0.289557  0.063104  0.873459\n",
       "3  0.883157  0.115247  0.388464  0.159396  0.506363  0.098077\n",
       "4  0.560058  0.350684  0.821986  0.803434  0.934048  0.460979\n",
       "5  0.628418  0.161669  0.018547  0.233206  0.035678  0.536976\n",
       "6  0.326006  0.739832  0.554450  0.527540  0.505558  0.960666"
      ]
     },
     "execution_count": 1,
     "metadata": {},
     "output_type": "execute_result"
    }
   ],
   "source": [
    "#Consider the below code to answer further questions:\n",
    "import pandas as pd\n",
    "import numpy as np\n",
    "columns = ['column_1', 'column_2', 'column_3', 'column_4', 'column_5', 'column_6']\n",
    "indices = [1,2,3,4,5,6]\n",
    "#Creating a dataframe:\n",
    "df1 = pd.DataFrame(np.random.rand(6,6), columns = columns, index = indices)\n",
    "df1"
   ]
  },
  {
   "cell_type": "markdown",
   "id": "c1d2970f-4ef1-4428-b776-1fc48cb82b50",
   "metadata": {},
   "source": [
    "Q4. Write a code to find the following statistical measurements for the above dataframe df1:\n",
    "\n",
    "(i) mean of each and every column present in the dataframe.\n",
    "\n",
    "(ii) standard deviation of column1, ‘column_2’"
   ]
  },
  {
   "cell_type": "code",
   "execution_count": 52,
   "id": "a1eb96b2-5053-49c1-9a9a-6d88b265a370",
   "metadata": {},
   "outputs": [
    {
     "name": "stdout",
     "output_type": "stream",
     "text": [
      "Mean:\n",
      "column_1    0.441668\n",
      "column_2    0.637031\n",
      "column_3    0.435204\n",
      "column_4    0.482193\n",
      "column_5    0.447202\n",
      "column_6    0.394630\n",
      "dtype: float64\n",
      "\n",
      "Standard Deviation of column_1 and coloumn_2: \n",
      "column_1    0.374089\n",
      "column_2    0.209328\n",
      "dtype: float64\n"
     ]
    }
   ],
   "source": [
    "print('Mean:')\n",
    "print(df1.mean())\n",
    "print()\n",
    "print('Standard Deviation of column_1 and coloumn_2: ')\n",
    "print(df1[['column_1','column_2']].std())"
   ]
  },
  {
   "cell_type": "markdown",
   "id": "e81c37ae-4eaa-4c45-bacc-b0426a6f4d38",
   "metadata": {},
   "source": [
    "Q5. Replace the data present in the second row of column_1, ‘column_2’ by a string variable then find the\n",
    "mean of column_1, column_2.\n",
    "If you are getting errors in executing it then explain why."
   ]
  },
  {
   "cell_type": "code",
   "execution_count": 3,
   "id": "75ad91ca-91b2-460f-9701-0a4f3e7fdb9d",
   "metadata": {},
   "outputs": [
    {
     "name": "stderr",
     "output_type": "stream",
     "text": [
      "/tmp/ipykernel_77/636718551.py:4: FutureWarning: The default value of numeric_only in DataFrame.mean is deprecated. In a future version, it will default to False. In addition, specifying 'numeric_only=None' is deprecated. Select only valid columns or specify the value of numeric_only to silence this warning.\n",
      "  df1[['column_1','column_2']].mean()\n"
     ]
    },
    {
     "data": {
      "text/plain": [
       "Series([], dtype: float64)"
      ]
     },
     "execution_count": 3,
     "metadata": {},
     "output_type": "execute_result"
    }
   ],
   "source": [
    "df1.loc[1,'column_1'] = 'Data'\n",
    "df1.loc[1,'column_2'] = 'Science'\n",
    "\n",
    "df1[['column_1','column_2']].mean()"
   ]
  },
  {
   "cell_type": "markdown",
   "id": "d1883b64-b5fe-4a9f-b904-f9ac7a71a130",
   "metadata": {},
   "source": [
    "However, this code might raise an error if the string value that we are trying to assign to column_2 cannot be converted to a numeric value. In that case, the pd.to_numeric() function will return NaN (Not a Number) for that value, and the mean calculation will also result in NaN."
   ]
  },
  {
   "cell_type": "markdown",
   "id": "9aa8ecd6-d62b-47d8-aa98-c892adfdc62b",
   "metadata": {},
   "source": [
    "Q6. What do you understand about the windows function in pandas and list the types of windows\n",
    "functions?"
   ]
  },
  {
   "cell_type": "markdown",
   "id": "4a6b9e97-cc66-40b2-a07e-63f283889d40",
   "metadata": {},
   "source": [
    "In pandas, a window function is a function that operates on a sliding window of data in a DataFrame. It is used to perform calculations on a subset of rows within a DataFrame, based on some grouping or partitioning of the data.\n",
    "\n",
    "There are several types of window functions in pandas, including:\n",
    "\n",
    "Rolling window functions: These functions compute a rolling window of data, which is a fixed-size window that slides over the DataFrame. Some examples of rolling window functions include rolling mean, rolling sum, and rolling standard deviation.\n",
    "\n",
    "Expanding window functions: These functions compute a cumulative statistic that grows over time as more data is added to the window. Some examples of expanding window functions include expanding sum, expanding max, and expanding min.\n",
    "\n",
    "Rolling and expanding window apply functions: These functions apply a custom function to a rolling or expanding window of data. This allows you to define your own custom calculations that are not provided by the built-in pandas window functions.\n",
    "\n",
    "Grouped window functions: These functions operate on groups of rows within a DataFrame, based on some grouping or partitioning of the data. Some examples of grouped window functions include groupby, transform, and apply."
   ]
  },
  {
   "cell_type": "markdown",
   "id": "2426bc3c-b42f-4098-a98c-fff1255d6bb5",
   "metadata": {},
   "source": [
    "Q7. Write a code to print only the current month and year at the time of answering this question."
   ]
  },
  {
   "cell_type": "code",
   "execution_count": 9,
   "id": "ba321296-8936-4a82-8ba0-5a4a27d75dd9",
   "metadata": {},
   "outputs": [
    {
     "name": "stdout",
     "output_type": "stream",
     "text": [
      "The current month is: April and current year is: 2023\n"
     ]
    }
   ],
   "source": [
    "import pandas as pd\n",
    "\n",
    "now = pd.to_datetime('now',utc=True)\n",
    "month = now.month_name()\n",
    "year = now.year\n",
    "\n",
    "print(f'The current month is: {month} and current year is: {year}')\n"
   ]
  },
  {
   "cell_type": "markdown",
   "id": "64644351-2ea7-4424-be52-7c5c5a98b4b0",
   "metadata": {},
   "source": [
    "Q8. Write a Python program that takes in two dates as input (in the format YYYY-MM-DD) and\n",
    "calculates the difference between them in days, hours, and minutes using Pandas time delta. The\n",
    "program should prompt the user to enter the dates and display the result."
   ]
  },
  {
   "cell_type": "code",
   "execution_count": 16,
   "id": "964f2705-f87d-4c21-b8b2-dcbdb0301fcb",
   "metadata": {},
   "outputs": [
    {
     "name": "stdin",
     "output_type": "stream",
     "text": [
      "Enter the first date in the format YYYY-MM-DD:  2023-04-06\n",
      "Enter the second date in the format YYYY-MM-DD:  2002-07-29\n"
     ]
    },
    {
     "data": {
      "text/plain": [
       "'The time difference between 2023-04-06 00:00:00 and 2002-07-29 00:00:00 is Day: 7556, Hours: 0, Minutes: 0'"
      ]
     },
     "execution_count": 16,
     "metadata": {},
     "output_type": "execute_result"
    }
   ],
   "source": [
    "import pandas as pd\n",
    "\n",
    "def time_dif(f_date,s_date):\n",
    "    time_diff= f_date-s_date\n",
    "    day= time_diff.days\n",
    "    hours=time_diff.seconds // 3600\n",
    "    minutes=(time_diff.seconds // 60) % 60\n",
    "    return (f'The time difference between {f_date} and {s_date} is Day: {day}, Hours: {hours}, Minutes: {minutes}')\n",
    "\n",
    "f = pd.to_datetime(input(\"Enter the first date in the format YYYY-MM-DD: \"))\n",
    "s = pd.to_datetime(input(\"Enter the second date in the format YYYY-MM-DD: \"))\n",
    "time_dif(f,s)"
   ]
  },
  {
   "cell_type": "markdown",
   "id": "79b358be-93d2-4f14-8b81-0158473455d0",
   "metadata": {},
   "source": [
    "Q9. Write a Python program that reads a CSV file containing categorical data and converts a specified\n",
    "column to a categorical data type. The program should prompt the user to enter the file path, column\n",
    "name, and category order, and then display the sorted data."
   ]
  },
  {
   "cell_type": "code",
   "execution_count": 1,
   "id": "ecbdbd30-b5b9-4bad-9b73-724c4e17d755",
   "metadata": {},
   "outputs": [],
   "source": [
    "import pandas as pd\n",
    "\n",
    "data = pd.read_csv('data.csv')\n"
   ]
  },
  {
   "cell_type": "code",
   "execution_count": null,
   "id": "2f4ddab5-463e-4b68-9587-cc2900614e06",
   "metadata": {},
   "outputs": [],
   "source": []
  },
  {
   "cell_type": "code",
   "execution_count": 10,
   "id": "d8935065-f83d-4e62-a00f-d766b582d225",
   "metadata": {},
   "outputs": [
    {
     "name": "stdin",
     "output_type": "stream",
     "text": [
      "Enter file path:  sample.csv\n",
      "Enter column name:  Gender\n",
      "Enter category order (comma-separated):  Male,Female\n"
     ]
    },
    {
     "name": "stdout",
     "output_type": "stream",
     "text": [
      "    Name  Gender  Age\n",
      "0   John    Male   25\n",
      "2   Mike    Male   35\n",
      "1   Jane  Female   30\n",
      "3  Emily  Female   28\n"
     ]
    }
   ],
   "source": [
    "import pandas as pd\n",
    "\n",
    "# Prompt user for file path\n",
    "file_path = input(\"Enter file path: \")\n",
    "\n",
    "# Prompt user for column name\n",
    "column_name = input(\"Enter column name: \")\n",
    "\n",
    "# Prompt user for category order\n",
    "category_order = input(\"Enter category order (comma-separated): \").split(\",\")\n",
    "\n",
    "# Read CSV file\n",
    "df = pd.read_csv(file_path)\n",
    "\n",
    "# Convert specified column to categorical data type\n",
    "df[column_name] = pd.Categorical(df[column_name], categories=category_order)\n",
    "\n",
    "# Display sorted data\n",
    "print(df.sort_values(column_name))"
   ]
  },
  {
   "cell_type": "markdown",
   "id": "1ee487c1-13b1-4604-ad1c-e39ca4fe7585",
   "metadata": {},
   "source": [
    "Q10. Write a Python program that reads a CSV file containing sales data for different products and\n",
    "visualizes the data using a stacked bar chart to show the sales of each product category over time. The\n",
    "program should prompt the user to enter the file path and display the chart."
   ]
  },
  {
   "cell_type": "code",
   "execution_count": 11,
   "id": "cbb3f385-38fd-4581-8994-31a9f40540f5",
   "metadata": {},
   "outputs": [
    {
     "name": "stdin",
     "output_type": "stream",
     "text": [
      "Enter file path:  sales.csv\n"
     ]
    },
    {
     "data": {
      "image/png": "[encoded data removed]",
      "text/plain": [
       "<Figure size 640x480 with 1 Axes>"
      ]
     },
     "metadata": {},
     "output_type": "display_data"
    }
   ],
   "source": [
    "import pandas as pd\n",
    "import matplotlib.pyplot as plt\n",
    "\n",
    "# prompt user to enter file path\n",
    "file_path = input(\"Enter file path: \")\n",
    "\n",
    "# read CSV file into pandas DataFrame\n",
    "data = pd.read_csv(file_path)\n",
    "\n",
    "# group data by product category and year\n",
    "grouped_data = data.groupby(['Category', 'Year'])['Sales'].sum().unstack()\n",
    "\n",
    "# plot stacked bar chart\n",
    "grouped_data.plot(kind='bar', stacked=True)\n",
    "\n",
    "# set chart title and axis labels\n",
    "plt.title('Product Sales by Category and Year')\n",
    "plt.xlabel('Year')\n",
    "plt.ylabel('Sales')\n",
    "\n",
    "# display chart\n",
    "plt.show()\n"
   ]
  },
  {
   "cell_type": "raw",
   "id": "79e16c22-b548-4b7f-bbf0-00ef34e75a68",
   "metadata": {},
   "source": [
    "Q11. You are given a CSV file containing student data that includes the student ID and their test score. Write\n",
    "a Python program that reads the CSV file, calculates the mean, median, and mode of the test scores, and\n",
    "displays the results in a table.\n",
    "The program should do the following:\n",
    "1. Prompt the user to enter the file path of the CSV file containing the student data\n",
    "2. Read the CSV file into a Pandas DataFrame\n",
    "3. Calculate the mean, median, and mode of the test scores using Pandas tools\n",
    "4. Display the mean, median, and mode in a table.\n",
    "Assume the CSV file contains the following columns\n",
    "1. Student ID: The ID of the student\n",
    "2. Test Score: The score of the student's test.\n",
    "Example usage of the program:\n",
    "Enter the file path of the CSV file containing the student data: student_data.csv\n",
    "+-----------+--------+\n",
    "| Statistic | Value |\n",
    "+-----------+--------+\n",
    "| Mean | 79.6 |\n",
    "| Median | 82 |\n",
    "| Mode | 85, 90 |\n",
    "+-----------+--------+\n",
    "Assume that the CSV file student_data.csv contains the following data:\n",
    "Student ID,Test Score\n",
    "1,85\n",
    "2,90\n",
    "3,80\n",
    "4,75\n",
    "5,85\n",
    "6,82\n",
    "7,78\n",
    "8,85\n",
    "9,90\n",
    "10,85\n",
    "The program should calculate the mean, median, and mode of the test scores and display the results\n",
    "in a table."
   ]
  },
  {
   "cell_type": "code",
   "execution_count": 28,
   "id": "3d2dddf2-607f-4a83-9529-64071e90f64b",
   "metadata": {},
   "outputs": [
    {
     "name": "stdout",
     "output_type": "stream",
     "text": [
      "Collecting prettytable\n",
      "  Downloading prettytable-3.6.0-py3-none-any.whl (27 kB)\n",
      "Requirement already satisfied: wcwidth in /opt/conda/lib/python3.10/site-packages (from prettytable) (0.2.5)\n",
      "Installing collected packages: prettytable\n",
      "Successfully installed prettytable-3.6.0\n",
      "Note: you may need to restart the kernel to use updated packages.\n"
     ]
    }
   ],
   "source": [
    "pip install prettytable"
   ]
  },
  {
   "cell_type": "code",
   "execution_count": 2,
   "id": "b7228ba1-ef11-41ac-8251-5a2c119b589a",
   "metadata": {},
   "outputs": [
    {
     "name": "stdin",
     "output_type": "stream",
     "text": [
      "Enter CSV file Path:  student.csv\n"
     ]
    },
    {
     "name": "stdout",
     "output_type": "stream",
     "text": [
      "+------------+--------------------------------+\n",
      "| Statistics |             Values             |\n",
      "+------------+--------------------------------+\n",
      "|    Mean    |              83.5              |\n",
      "|   Median   |              85.0              |\n",
      "|    Mode    |            0    85             |\n",
      "|            | Name: Test Score, dtype: int64 |\n",
      "+------------+--------------------------------+\n"
     ]
    }
   ],
   "source": [
    "import pandas as pd\n",
    "\n",
    "from prettytable import PrettyTable\n",
    "\n",
    "data = input(\"Enter CSV file Path: \")\n",
    "data_r = pd.read_csv(data)\n",
    "\n",
    "mean = data_r['Test Score'].mean()\n",
    "median = data_r['Test Score'].median()\n",
    "mode = data_r['Test Score'].mode()\n",
    "\n",
    "mytable=PrettyTable(['Statistics','Values'])\n",
    "\n",
    "mytable.add_row(['Mean',mean])\n",
    "mytable.add_row(['Median',median])\n",
    "mytable.add_row(['Mode',mode])\n",
    "\n",
    "print(mytable)"
   ]
  }
 ],
 "metadata": {
  "kernelspec": {
   "display_name": "Python 3 (ipykernel)",
   "language": "python",
   "name": "python3"
  },
  "language_info": {
   "codemirror_mode": {
    "name": "ipython",
    "version": 3
   },
   "file_extension": ".py",
   "mimetype": "text/x-python",
   "name": "python",
   "nbconvert_exporter": "python",
   "pygments_lexer": "ipython3",
   "version": "3.10.8"
  }
 },
 "nbformat": 4,
 "nbformat_minor": 5
}
