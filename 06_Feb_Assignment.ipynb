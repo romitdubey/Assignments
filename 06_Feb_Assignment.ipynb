{
 "cells": [
  {
   "cell_type": "markdown",
   "id": "805c2b99-d4ec-4ec4-a00a-f3203673a0ff",
   "metadata": {},
   "source": [
    "Q1. Create a function which will take a list as an argument and return the product of all the numbers\n",
    "after creating a flat list.\n",
    "\n",
    "Use the below-given list as an argument for your function.\n",
    "\n",
    "list1 = [1,2,3,4, [44,55,66, True], False, (34,56,78,89,34), {1,2,3,3,2,1}, {1:34, \"key2\": [55, 67, 78, 89], 4: (45,\n",
    "22, 61, 34)}, [56, 'data science'], 'Machine Learning']\n",
    "\n",
    "Note: you must extract numeric keys and values of the dictionary also."
   ]
  },
  {
   "cell_type": "code",
   "execution_count": 14,
   "id": "012dbe64-6a12-4fef-9897-80007269ae82",
   "metadata": {},
   "outputs": [
    {
     "name": "stdout",
     "output_type": "stream",
     "text": [
      "Here is the flat list: [1, 2, 3, 4, 44, 55, 66, 34, 56, 78, 89, 34, 1, 2, 3, 1, 4, 34, 55, 67, 78, 89, 45, 22, 61, 34, 56]\n",
      "\n",
      "Here is the product of all the numbers in the flat list: 4134711838987085478833841242112000\n"
     ]
    }
   ],
   "source": [
    "from functools import reduce\n",
    "\n",
    "# Creating a function that takes list as an argument and store the all the numbers in the flat_list\n",
    "def product_func(x , flat_list = None):\n",
    "    if flat_list == None:\n",
    "        flat_list = []\n",
    "    for i in x:\n",
    "        if type(i) == int or type(i) == float:\n",
    "            flat_list.append(i)\n",
    "        elif type(i) == list or type(i) == tuple or type(i) == set:\n",
    "            product_func(i, flat_list)\n",
    "        elif type(i) == dict:\n",
    "            for k in i.keys():\n",
    "                if type(k) == int:\n",
    "                    flat_list.append(k)\n",
    "                else:\n",
    "                    product_func(k, flat_list)\n",
    "            for v in i.values():\n",
    "                if type(v) == int:\n",
    "                    flat_list.append(v)\n",
    "                else:\n",
    "                    product_func(v, flat_list)\n",
    "    return flat_list\n",
    "\n",
    "    \n",
    "list1 = [1,2,3,4, [44,55,66, True], False, (34,56,78,89,34), {1,2,3,3,2,1}, {1:34, \"key2\": [55, 67, 78, 89], 4: (45, 22, 61, 34)}, [56, 'data science'], 'Machine Learning']\n",
    "\n",
    "# Calling the function\n",
    "\n",
    "flat_list = product_func(list1)\n",
    "\n",
    "# Using reduce function for get product of all the number of flat_list\n",
    "    \n",
    "product = reduce(lambda x , y : x*y ,flat_list)\n",
    "print(\"Here is the flat list: \" + str(flat_list))\n",
    "print()\n",
    "print(\"Here is the product of all the numbers in the flat list: \" + str(product))\n",
    "\n"
   ]
  },
  {
   "cell_type": "markdown",
   "id": "ced4fcc8-6fd7-4a6a-a07b-64d792f88677",
   "metadata": {},
   "source": [
    "Q2. Write a python program for encrypting a message sent to you by your friend. The logic of encryption\n",
    "should be such that, for a the output should be z. For b, the output should be y. For c, the output should\n",
    "be x respectively. Also, the whitespace should be replaced with a dollar sign. Keep the punctuation\n",
    "marks unchanged.\n",
    "\n",
    "Input Sentence: I want to become a Data Scientist.\n",
    "\n",
    "Encrypt the above input sentence using the program you just created.\n",
    "\n",
    "Note: Convert the given input sentence into lowercase before encrypting. The final output should be\n",
    "lowercase."
   ]
  },
  {
   "cell_type": "code",
   "execution_count": 39,
   "id": "5e4c5b3d-d4c6-4384-9554-c2ca8f0efee8",
   "metadata": {},
   "outputs": [
    {
     "data": {
      "text/plain": [
       "'r$dzmg$gl$yvxlnv$z$wzgz$hxrvmgrhg.'"
      ]
     },
     "execution_count": 39,
     "metadata": {},
     "output_type": "execute_result"
    }
   ],
   "source": [
    "def encrypt(x):\n",
    "    encrypted_msg = \"\"  \n",
    "    alphabet = ['a','b','c','d','e','f','g','h','i','j','k','l','m','n','o','p','q','r','s','t','u','v','w','x','y','z']\n",
    "    reverse_alphabet = alphabet[::-1] # Reverse the alphabet using slicing\n",
    "    for i in x:\n",
    "        if i == ' ':\n",
    "            encrypted_msg += '$'\n",
    "        elif i == \".\" or i == \"!\" or i == \",\" or i == \"?\":\n",
    "            encrypted_msg += i\n",
    "        else:\n",
    "            n = alphabet.index(i.lower())\n",
    "            encrypted_msg += reverse_alphabet[n]\n",
    "    return encrypted_msg\n",
    "            \n",
    "\n",
    "# Calling the function\n",
    "\n",
    "input_sentence = \"I want to become a Data Scientist.\"\n",
    "encrypt(input_sentence)\n",
    "    "
   ]
  }
 ],
 "metadata": {
  "kernelspec": {
   "display_name": "Python 3 (ipykernel)",
   "language": "python",
   "name": "python3"
  },
  "language_info": {
   "codemirror_mode": {
    "name": "ipython",
    "version": 3
   },
   "file_extension": ".py",
   "mimetype": "text/x-python",
   "name": "python",
   "nbconvert_exporter": "python",
   "pygments_lexer": "ipython3",
   "version": "3.10.8"
  }
 },
 "nbformat": 4,
 "nbformat_minor": 5
}
