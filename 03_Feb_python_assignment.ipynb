{
 "cells": [
  {
   "cell_type": "markdown",
   "id": "728b8994-7179-4887-92ab-2c1ae5891989",
   "metadata": {},
   "source": [
    "Q1. Which keyword is used to create a function? Create a function to return a list of odd numbers in the range of 1 to25."
   ]
  },
  {
   "cell_type": "code",
   "execution_count": 10,
   "id": "40dc01b1-18e8-43d3-bf3b-1bf6bcd9c240",
   "metadata": {},
   "outputs": [
    {
     "data": {
      "text/plain": [
       "[1, 3, 5, 7, 9, 11, 13, 15, 17, 19, 21, 23]"
      ]
     },
     "execution_count": 10,
     "metadata": {},
     "output_type": "execute_result"
    }
   ],
   "source": [
    "''' Def keyword is used to create a function'''\n",
    "\n",
    "l=[]\n",
    "def odd():\n",
    "    for i in range(1,25):\n",
    "        if i % 2 != 0:\n",
    "            l.append(i)\n",
    "    return l\n",
    "\n",
    "odd()"
   ]
  },
  {
   "cell_type": "markdown",
   "id": "66ab8956-cbc3-44df-8537-7581a231aa52",
   "metadata": {},
   "source": [
    "Q2. Why *args and **kwargs is used in some functions? Create a function each for *args and ** kwards to demonstrate theier use."
   ]
  },
  {
   "cell_type": "code",
   "execution_count": 5,
   "id": "6c64e1ba-0884-43ed-909f-fe4b467c3cf7",
   "metadata": {},
   "outputs": [
    {
     "data": {
      "text/plain": [
       "(2, 5, 2, 55, 2)"
      ]
     },
     "execution_count": 5,
     "metadata": {},
     "output_type": "execute_result"
    }
   ],
   "source": [
    "'''*args and **kwargs are used in function definitions to allow for a flexible number of arguments to be passed to the function.\n",
    "*args allows for a non-keyworded, variable length argument list. The arguments are passed as a tuple.\n",
    "**kwargs allows for keyworded, variable length argument list. The arguments are passed as a dictionary.\n",
    "This can be useful when the number of arguments a function should accept is unknown beforehand. It makes the function definition\n",
    "more flexible and allows the caller to pass a different number of arguments to the function without causing an error.'''\n",
    "\n",
    "#*args\n",
    "\n",
    "def test(*args):\n",
    "    return args\n",
    "\n",
    "test(2,5,2,55,2)"
   ]
  },
  {
   "cell_type": "code",
   "execution_count": 4,
   "id": "083ddca7-9f0a-4d23-b07c-cfde8c36bd24",
   "metadata": {},
   "outputs": [
    {
     "data": {
      "text/plain": [
       "{'a': [1, 2, 3, 4], 'b': 'sudh', 'c': 23.45}"
      ]
     },
     "execution_count": 4,
     "metadata": {},
     "output_type": "execute_result"
    }
   ],
   "source": [
    "#**kwargs\n",
    "\n",
    "def test2(**kwargs):\n",
    "    return kwargs\n",
    "\n",
    "test2(a = [1,2,3,4] , b = \"sudh\" , c = 23.45 )"
   ]
  },
  {
   "cell_type": "markdown",
   "id": "a1442b28-f5e6-4d48-9567-e8663f36dfc4",
   "metadata": {},
   "source": [
    "Q3. What is an iterator in python? Name the method used to initialise the iterator object and the method used for iteration. Use these methods to print the first five elements of the given list [2,4,6,8,10,12,14,16,18,20]."
   ]
  },
  {
   "cell_type": "code",
   "execution_count": 20,
   "id": "faea650f-c514-42f2-aeb6-c36615f84b0c",
   "metadata": {},
   "outputs": [
    {
     "name": "stdout",
     "output_type": "stream",
     "text": [
      "2\n",
      "4\n",
      "6\n",
      "8\n",
      "10\n"
     ]
    }
   ],
   "source": [
    "'''An iterator in Python is an object that implements the iterator protocol, which consists of two methods: __iter__() and __next__().\n",
    "iter() is used to initialize the iterator object. This method is called when an iterator is created for the object. It returns the \n",
    "iterator object itself.\n",
    "next() is used for iteration. It returns the next value from the iterator. When there are no more items to return,\n",
    "it should raise a StopIteration exception.'''\n",
    "\n",
    "l = [2,4,6,8,10,12,14,16,18,20]\n",
    "count = 0\n",
    "for i in l:\n",
    "    if count<5:\n",
    "        print(i)\n",
    "        count+=1"
   ]
  },
  {
   "cell_type": "markdown",
   "id": "60098ed2-e718-4934-809a-f326ba8a607c",
   "metadata": {},
   "source": [
    "Q4. What is a generator function in python? Why yield keyword is used? Give an example of a generator function."
   ]
  },
  {
   "cell_type": "code",
   "execution_count": 22,
   "id": "9879741e-3a44-45ba-901f-ad3d0107c6b2",
   "metadata": {},
   "outputs": [
    {
     "name": "stdout",
     "output_type": "stream",
     "text": [
      "0\n",
      "1\n",
      "2\n",
      "3\n",
      "4\n",
      "5\n",
      "6\n",
      "7\n",
      "8\n",
      "9\n"
     ]
    }
   ],
   "source": [
    "'''In Python, a generator function is a special kind of function that can be used to create an iterator, which is an object that\n",
    "produces a sequence of values.A generator function is defined like a normal function, but instead of using the return statement, it uses the yield statement.\n",
    "Each time the generator function is called, it executes the code inside the function until it encounters a yield statement. Then,\n",
    "it returns the value specified in the yield statement, and the state of the function is saved. The next time the generator function\n",
    "is called, it continues executing the code where it left off, until it encounters another yield statement or the end of the function.'''\n",
    "\n",
    "#Example\n",
    "\n",
    "def generate_numbers(n):\n",
    "    i = 0\n",
    "    while i < n:\n",
    "        yield i\n",
    "        i += 1\n",
    "\n",
    "gen = generate_numbers(10)\n",
    "for num in gen:\n",
    "    print(num)"
   ]
  },
  {
   "cell_type": "markdown",
   "id": "372dd34e-ea98-4632-b71e-29a1c8856768",
   "metadata": {},
   "source": [
    "Q5. Create a generator function for prime numbers less than 1000. Use the next() method to print the first 20 Prime numbers."
   ]
  },
  {
   "cell_type": "code",
   "execution_count": 32,
   "id": "21309536-dcce-4925-8649-da6dea421b96",
   "metadata": {},
   "outputs": [
    {
     "name": "stdout",
     "output_type": "stream",
     "text": [
      "2\n",
      "3\n",
      "5\n",
      "7\n",
      "11\n",
      "13\n",
      "17\n",
      "19\n",
      "23\n",
      "29\n",
      "31\n",
      "37\n",
      "41\n",
      "43\n",
      "47\n",
      "53\n",
      "59\n",
      "61\n",
      "67\n",
      "71\n",
      "73\n"
     ]
    }
   ],
   "source": [
    "def gen():\n",
    "    is_prime = True\n",
    "    for i in range(2,1001):\n",
    "        for j in range(2,i):\n",
    "            if i % j == 0 :\n",
    "                is_prime = False\n",
    "        if is_prime == True:\n",
    "            yield i\n",
    "        is_prime = True\n",
    "            \n",
    "#creating Object           \n",
    "prime=gen()\n",
    "\n",
    "for p in range(21):\n",
    "    print(next(prime))"
   ]
  },
  {
   "cell_type": "markdown",
   "id": "ef634bcf-9d81-4a0b-a5d2-f696c61085e3",
   "metadata": {},
   "source": [
    "Q6. Write a python program to to print the first 10 fibonacci number using a while loop."
   ]
  },
  {
   "cell_type": "code",
   "execution_count": 43,
   "id": "56942f5f-9cec-44ee-aa82-79e91bd98b4b",
   "metadata": {},
   "outputs": [
    {
     "name": "stdout",
     "output_type": "stream",
     "text": [
      "0\n",
      "1\n",
      "1\n",
      "2\n",
      "3\n",
      "5\n",
      "8\n",
      "13\n",
      "21\n",
      "34\n",
      "55\n"
     ]
    }
   ],
   "source": [
    "a = 0\n",
    "b = 1\n",
    "count = 0\n",
    "while count <=10:\n",
    "    print(a)\n",
    "    c = a\n",
    "    a = b\n",
    "    b = b + c\n",
    "    count += 1\n"
   ]
  },
  {
   "cell_type": "markdown",
   "id": "f5a78041-1829-4d96-9ec3-4cb01e0f6b00",
   "metadata": {},
   "source": [
    "Q7. Write a List Comprehension to iterate through the given string 'pwskills'.\n",
    "Expected output: ['p','w','s','k','i','l','l','s']"
   ]
  },
  {
   "cell_type": "code",
   "execution_count": 44,
   "id": "be89c2ab-ada2-4b0a-887c-e46e63a0154d",
   "metadata": {},
   "outputs": [
    {
     "data": {
      "text/plain": [
       "['p', 'w', 's', 'k', 'i', 'l', 'l', 's']"
      ]
     },
     "execution_count": 44,
     "metadata": {},
     "output_type": "execute_result"
    }
   ],
   "source": [
    "string = 'pwskills'\n",
    "[i for i in string]"
   ]
  },
  {
   "cell_type": "markdown",
   "id": "b351e824-94c1-432f-9452-cc33814a68fb",
   "metadata": {},
   "source": [
    "Q8. Write a python program to check whether a given number is Palindrome or not using a while loop."
   ]
  },
  {
   "cell_type": "code",
   "execution_count": 6,
   "id": "532c1c01-c0e1-411b-bdb0-06549fc59287",
   "metadata": {},
   "outputs": [
    {
     "name": "stdin",
     "output_type": "stream",
     "text": [
      "Enter a number:  125521\n"
     ]
    },
    {
     "name": "stdout",
     "output_type": "stream",
     "text": [
      "The given number 125521 is Palindrome\n"
     ]
    }
   ],
   "source": [
    "# Taking input from user and we don't change the input in integer\n",
    "\n",
    "num = input(\"Enter a number: \")\n",
    "\n",
    "i=0\n",
    "j=1\n",
    "flag = True\n",
    "while i < len(num):\n",
    "    if num[i] != num[i-j]:\n",
    "        flag = False\n",
    "    i += 1\n",
    "    j += 2\n",
    "if flag == True:\n",
    "    print(\"The given number \"+num+\" is Palindrome\")\n",
    "else:\n",
    "    print(\"The given number \"+num+\" is NOT a Palindrome\")\n",
    "    "
   ]
  },
  {
   "cell_type": "markdown",
   "id": "e05c4e56-9b38-4a31-9faf-21fcab946101",
   "metadata": {},
   "source": [
    "Q9. Write a code a print odd numbers from 1 to 100 using list comprehension."
   ]
  },
  {
   "cell_type": "code",
   "execution_count": 8,
   "id": "79e25b49-48ef-437c-9ae2-bb3e63adbc20",
   "metadata": {},
   "outputs": [
    {
     "data": {
      "text/plain": [
       "[1,\n",
       " 3,\n",
       " 5,\n",
       " 7,\n",
       " 9,\n",
       " 11,\n",
       " 13,\n",
       " 15,\n",
       " 17,\n",
       " 19,\n",
       " 21,\n",
       " 23,\n",
       " 25,\n",
       " 27,\n",
       " 29,\n",
       " 31,\n",
       " 33,\n",
       " 35,\n",
       " 37,\n",
       " 39,\n",
       " 41,\n",
       " 43,\n",
       " 45,\n",
       " 47,\n",
       " 49,\n",
       " 51,\n",
       " 53,\n",
       " 55,\n",
       " 57,\n",
       " 59,\n",
       " 61,\n",
       " 63,\n",
       " 65,\n",
       " 67,\n",
       " 69,\n",
       " 71,\n",
       " 73,\n",
       " 75,\n",
       " 77,\n",
       " 79,\n",
       " 81,\n",
       " 83,\n",
       " 85,\n",
       " 87,\n",
       " 89,\n",
       " 91,\n",
       " 93,\n",
       " 95,\n",
       " 97,\n",
       " 99]"
      ]
     },
     "execution_count": 8,
     "metadata": {},
     "output_type": "execute_result"
    }
   ],
   "source": [
    "[i for i in range(101) if i%2!=0]"
   ]
  }
 ],
 "metadata": {
  "kernelspec": {
   "display_name": "Python 3 (ipykernel)",
   "language": "python",
   "name": "python3"
  },
  "language_info": {
   "codemirror_mode": {
    "name": "ipython",
    "version": 3
   },
   "file_extension": ".py",
   "mimetype": "text/x-python",
   "name": "python",
   "nbconvert_exporter": "python",
   "pygments_lexer": "ipython3",
   "version": "3.10.8"
  }
 },
 "nbformat": 4,
 "nbformat_minor": 5
}
