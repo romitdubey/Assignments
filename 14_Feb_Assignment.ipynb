{
 "cells": [
  {
   "cell_type": "markdown",
   "id": "18066ec6-6721-4767-ab41-3ea785f361a4",
   "metadata": {},
   "source": [
    "Q1. What is multithreading in python? why is it used? Name the module used to handle threads in python"
   ]
  },
  {
   "cell_type": "markdown",
   "id": "7d5ad814-ab96-4245-89c0-c5c56ddeb07b",
   "metadata": {},
   "source": [
    "'''Multithreading in Python is a way of executing multiple threads or subprocesses concurrently within a single program. Each thread runs independently and can perform a separate task, allowing for parallel processing and potentially improving the overall performance of the program.\n",
    "\n",
    "\n",
    "Multithreading is commonly used in Python for tasks such as network programming, I/O-bound operations, and CPU-bound operations that can be parallelized.\n",
    "\n",
    "We use threading module'''"
   ]
  },
  {
   "cell_type": "markdown",
   "id": "a594c00e-87ff-4439-b5ad-df1fd9439e74",
   "metadata": {},
   "source": [
    "Q2. Why threading module used? rite the use of the following functions\n",
    "\n",
    "activeCount()\n",
    "\n",
    "currentThread()\n",
    " \n",
    "enumerate()\n",
    " "
   ]
  },
  {
   "cell_type": "code",
   "execution_count": 1,
   "id": "3c7f1794-037d-4cd9-98eb-663e2d644270",
   "metadata": {},
   "outputs": [
    {
     "name": "stdout",
     "output_type": "stream",
     "text": [
      "Thread 1 started\n",
      "Thread 1 working\n",
      "Thread 1 working\n",
      "Thread 1 working\n",
      "Thread 1 working\n",
      "Thread 1 working\n",
      "Thread 1 finished\n",
      "Thread 2 started\n",
      "Thread 2 working\n",
      "Thread 2 working\n",
      "Thread 2 working\n",
      "Thread 2 working\n",
      "Thread 2 working\n",
      "Thread 2 finished\n",
      "Active threads: 8\n",
      "Thread name: MainThread, ID: 140158706161472, Daemon: False\n",
      "Thread name: IOPub, ID: 140158635632192, Daemon: True\n",
      "Thread name: Heartbeat, ID: 140158627239488, Daemon: True\n",
      "Thread name: Thread-3 (_watch_pipe_fd), ID: 140158397572672, Daemon: True\n",
      "Thread name: Thread-4 (_watch_pipe_fd), ID: 140158389179968, Daemon: True\n",
      "Thread name: Control, ID: 140158380787264, Daemon: True\n",
      "Thread name: IPythonHistorySavingThread, ID: 140158372394560, Daemon: True\n",
      "Thread name: Thread-2, ID: 140158364001856, Daemon: True\n"
     ]
    }
   ],
   "source": [
    "'''The threading module is used in Python to handle multiple threads of execution in a program.\n",
    "This module provides a simple way to create, manage and synchronize threads within a program.'''\n",
    "\n",
    "#Example\n",
    "\n",
    "import threading\n",
    "\n",
    "def worker():\n",
    "    print(f\"{threading.current_thread().name} started\")\n",
    "    for i in range(5):\n",
    "        print(f\"{threading.current_thread().name} working\")\n",
    "    print(f\"{threading.current_thread().name} finished\")\n",
    "\n",
    "# Create two new threads\n",
    "t1 = threading.Thread(target=worker, name=\"Thread 1\")\n",
    "t2 = threading.Thread(target=worker, name=\"Thread 2\")\n",
    "\n",
    "# Start the threads\n",
    "t1.start()\n",
    "t2.start()\n",
    "\n",
    "# Wait for the threads to finish\n",
    "t1.join()\n",
    "t2.join()\n",
    "\n",
    "# Print the number of active threads\n",
    "print(f\"Active threads: {threading.active_count()}\")\n",
    "\n",
    "# Print information about all active threads\n",
    "for thread in threading.enumerate():\n",
    "    print(f\"Thread name: {thread.name}, ID: {thread.ident}, Daemon: {thread.daemon}\")\n"
   ]
  },
  {
   "cell_type": "markdown",
   "id": "5859adc3-5fe7-4429-be7c-035be6e2333d",
   "metadata": {},
   "source": [
    "3. Explain the following functions\n",
    "\n",
    "run()\n",
    "start()\n",
    "join()\n",
    "isAlive()"
   ]
  },
  {
   "cell_type": "markdown",
   "id": "1650949d-1c7e-4b83-8f48-f793fac69504",
   "metadata": {},
   "source": [
    "'''These functions are related to the management of threads in Python.\n",
    "\n",
    "1. run(): The run() function is the entry point for a thread's activity. When a thread is started,\n",
    "its run() method is invoked in a separate thread of control. You should override the run() method\n",
    "in your class if you want to define what the thread should do.\n",
    "\n",
    "2. start(): The start() function is used to start a thread's activity. It initializes the thread\n",
    "and calls the run() method in a separate thread of control. Once the thread has been started,\n",
    "it will continue running until the run() method exits or the thread is stopped.\n",
    "\n",
    "3. join(): The join() function is used to wait for a thread to complete its activity. If a thread\n",
    "is executing and you call join() on it, your program will block until the thread has completed\n",
    "its task and terminated. This is useful when you need to synchronize the activities of multiple threads.\n",
    "\n",
    "4. isAlive(): The isAlive() function is used to check whether a thread is currently executing or not.\n",
    "It returns a boolean value indicating whether the thread is still running or has completed its task. This function is useful when you need to check the status of a thread from another thread.'''"
   ]
  },
  {
   "cell_type": "markdown",
   "id": "0ca0ed0e-4c1b-4375-952d-09238c749359",
   "metadata": {},
   "source": [
    "Q4. Write a python program to create two threads. Thread one must print the list of squares and thread\n",
    "two must print the list of cubes"
   ]
  },
  {
   "cell_type": "code",
   "execution_count": 9,
   "id": "6134a076-6abc-428c-a942-52a09112fd37",
   "metadata": {},
   "outputs": [
    {
     "name": "stdout",
     "output_type": "stream",
     "text": [
      "Square of 0 is  0\n",
      "Square of 1 is  1\n",
      "Square of 2 is  4\n",
      "Square of 3 is  9\n",
      "Square of 4 is  16\n",
      "Square of 5 is  25\n",
      "Square of 6 is  36\n",
      "Square of 7 is  49\n",
      "Square of 8 is  64\n",
      "Square of 9 is  81\n",
      "Square of 10 is  100\n",
      "Cube of 0 is  0\n",
      "Cube of 1 is  1\n",
      "Cube of 2 is  8\n",
      "Cube of 3 is  27\n",
      "Cube of 4 is  64\n",
      "Cube of 5 is  125\n",
      "Cube of 6 is  216\n",
      "Cube of 7 is  343\n",
      "Cube of 8 is  512\n",
      "Cube of 9 is  729\n",
      "Cube of 10 is  1000\n"
     ]
    }
   ],
   "source": [
    "import threading\n",
    "\n",
    "def square(x):\n",
    "    print(f\"Square of {x} is \",x**2)\n",
    "def cube(y):\n",
    "    print(f\"Cube of {y} is \",y**3)\n",
    "\n",
    "t1 = [threading.Thread(target= square, args = (i,))for i in range(11)]\n",
    "t2 = [threading.Thread(target= cube, args = (j,)) for j in range(11)]\n",
    "\n",
    "for t in t1:\n",
    "    t.start()\n",
    "for t in t2:\n",
    "    t.start()"
   ]
  },
  {
   "cell_type": "markdown",
   "id": "aefa3890-cecf-4425-b400-13b222f44447",
   "metadata": {},
   "source": [
    "Q5. State advantages and disadvantages of multithreading"
   ]
  },
  {
   "cell_type": "markdown",
   "id": "4dda58bb-9f7b-4c61-a168-711c3ceaf885",
   "metadata": {},
   "source": [
    "Advantages of multithreading:\n",
    "\n",
    "1. Increased performance: Multithreading can increase the performance of a program by allowing it to perform multiple tasks concurrently. This can result in faster execution times and better utilization of system resources.\n",
    "\n",
    "2. Improved responsiveness: Multithreading can improve the responsiveness of a program by allowing it to continue processing user input while performing other tasks in the background. This can lead to a more interactive user experience.\n",
    "\n",
    "3. Simplified program structure: Multithreading can simplify the structure of a program by allowing complex tasks to be divided into smaller, more manageable threads. This can make the program easier to develop, test, and maintain.\n",
    "\n",
    "4. Resource sharing: Multithreading can allow threads to share resources, such as memory, files, and network connections, which can reduce resource usage and improve overall efficiency.\n",
    "\n",
    "Disadvantages of multithreading:\n",
    "\n",
    "1. Complexity: Multithreaded programming can be complex and difficult to debug, as it introduces concurrency and synchronization issues that can lead to race conditions and deadlocks.\n",
    "\n",
    "2. Increased memory usage: Each thread requires its own stack and resources, which can increase memory usage and limit scalability.\n",
    "\n",
    "3. Performance overhead: Multithreading can introduce performance overhead, as the overhead of creating and managing threads can offset the benefits of concurrency.\n",
    "\n",
    "4. Synchronization overhead: Synchronizing access to shared resources can introduce overhead and reduce performance, as threads may need to wait for access to the resource."
   ]
  },
  {
   "cell_type": "markdown",
   "id": "cd068144-525f-4417-992d-6b9764f03572",
   "metadata": {},
   "source": [
    "Q6. Explain deadlocks and race conditions."
   ]
  },
  {
   "cell_type": "markdown",
   "id": "dc9d321f-34e2-419c-b7f5-b9a60b9e0693",
   "metadata": {},
   "source": [
    "1. Deadlocks: A deadlock is a situation where two or more threads are waiting for each other to release resources, resulting in a circular dependency that prevents any of the threads from making progress. This can occur when threads acquire locks on resources in different orders, or when one thread holds a lock and waits for another thread that holds a lock on a resource it needs. Deadlocks can cause programs to become unresponsive or crash, and can be difficult to detect and diagnose.\n",
    "\n",
    "2. Race conditions: A race condition is a situation where the behavior of a program depends on the relative timing of two or more threads accessing shared resources. This can result in inconsistent or incorrect program behavior, such as data corruption or incorrect results. Race conditions can occur when two threads access a shared resource concurrently, and one thread modifies the resource while the other thread is reading or modifying it. This can lead to unpredictable behavior and bugs that are difficult to reproduce and fix."
   ]
  },
  {
   "cell_type": "code",
   "execution_count": null,
   "id": "ef7ddf01-9f63-43a2-a1ec-0f9c544d4cd2",
   "metadata": {},
   "outputs": [],
   "source": []
  }
 ],
 "metadata": {
  "kernelspec": {
   "display_name": "Python 3 (ipykernel)",
   "language": "python",
   "name": "python3"
  },
  "language_info": {
   "codemirror_mode": {
    "name": "ipython",
    "version": 3
   },
   "file_extension": ".py",
   "mimetype": "text/x-python",
   "name": "python",
   "nbconvert_exporter": "python",
   "pygments_lexer": "ipython3",
   "version": "3.10.8"
  }
 },
 "nbformat": 4,
 "nbformat_minor": 5
}
