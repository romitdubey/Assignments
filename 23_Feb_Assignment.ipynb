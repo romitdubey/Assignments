{
 "cells": [
  {
   "cell_type": "markdown",
   "id": "bedca9a2-8372-4976-88f7-a32cc52ec670",
   "metadata": {},
   "source": [
    "Q1. Create a Pandas Series that contains the following data: 4, 8, 15, 16, 23, and 42. Then, print the series."
   ]
  },
  {
   "cell_type": "code",
   "execution_count": 6,
   "id": "cfda4980-3092-496a-8c23-a5fcb8d3bb56",
   "metadata": {},
   "outputs": [
    {
     "name": "stdout",
     "output_type": "stream",
     "text": [
      "0     4\n",
      "1     8\n",
      "2    15\n",
      "3    16\n",
      "4    23\n",
      "5    42\n",
      "dtype: int64\n"
     ]
    }
   ],
   "source": [
    "import pandas as pd\n",
    "\n",
    "df = pd.Series([4,8,15,16,23,42])\n",
    "\n",
    "print(df)"
   ]
  },
  {
   "cell_type": "markdown",
   "id": "918585bd-09c9-4e2b-909c-a312747562f8",
   "metadata": {},
   "source": [
    "Q2. Create a variable of list type containing 10 elements in it, and apply pandas.Series function on the\n",
    "variable print it."
   ]
  },
  {
   "cell_type": "code",
   "execution_count": 7,
   "id": "0294363a-62be-40f7-8f94-3cab73cffab0",
   "metadata": {},
   "outputs": [
    {
     "name": "stdout",
     "output_type": "stream",
     "text": [
      "0     1\n",
      "1     2\n",
      "2     3\n",
      "3     4\n",
      "4     5\n",
      "5     6\n",
      "6     7\n",
      "7     8\n",
      "8     9\n",
      "9    10\n",
      "dtype: int64\n"
     ]
    }
   ],
   "source": [
    "data = [1,2,3,4,5,6,7,8,9,10]\n",
    "\n",
    "print(pd.Series(data))"
   ]
  },
  {
   "attachments": {
    "b522d6cd-0b04-4451-a82f-120388b5f7a4.png": {
     "image/png": "[encoded data removed]"
    }
   },
   "cell_type": "markdown",
   "id": "97eda2d3-26a1-4b74-a6d9-f284e266d02e",
   "metadata": {},
   "source": [
    "Q3. Create a Pandas DataFrame that contains the following data:\n",
    "\n",
    "![image.png](attachment:b522d6cd-0b04-4451-a82f-120388b5f7a4.png)"
   ]
  },
  {
   "cell_type": "code",
   "execution_count": 21,
   "id": "0e031a13-c2cd-406d-9715-012b1b26ea98",
   "metadata": {},
   "outputs": [
    {
     "data": {
      "text/html": [
       "<div>\n",
       "<style scoped>\n",
       "    .dataframe tbody tr th:only-of-type {\n",
       "        vertical-align: middle;\n",
       "    }\n",
       "\n",
       "    .dataframe tbody tr th {\n",
       "        vertical-align: top;\n",
       "    }\n",
       "\n",
       "    .dataframe thead th {\n",
       "        text-align: right;\n",
       "    }\n",
       "</style>\n",
       "<table border=\"1\" class=\"dataframe\">\n",
       "  <thead>\n",
       "    <tr style=\"text-align: right;\">\n",
       "      <th></th>\n",
       "      <th>name</th>\n",
       "      <th>Age</th>\n",
       "      <th>Gender</th>\n",
       "    </tr>\n",
       "  </thead>\n",
       "  <tbody>\n",
       "    <tr>\n",
       "      <th>0</th>\n",
       "      <td>Alice</td>\n",
       "      <td>25</td>\n",
       "      <td>Female</td>\n",
       "    </tr>\n",
       "    <tr>\n",
       "      <th>1</th>\n",
       "      <td>Bob</td>\n",
       "      <td>30</td>\n",
       "      <td>Male</td>\n",
       "    </tr>\n",
       "    <tr>\n",
       "      <th>2</th>\n",
       "      <td>Claire</td>\n",
       "      <td>27</td>\n",
       "      <td>Female</td>\n",
       "    </tr>\n",
       "  </tbody>\n",
       "</table>\n",
       "</div>"
      ],
      "text/plain": [
       "     name  Age  Gender\n",
       "0   Alice   25  Female\n",
       "1     Bob   30    Male\n",
       "2  Claire   27  Female"
      ]
     },
     "execution_count": 21,
     "metadata": {},
     "output_type": "execute_result"
    }
   ],
   "source": [
    "data2 = {'name':['Alice','Bob','Claire'],'Age':[25,30,27],'Gender':['Female','Male','Female']}\n",
    "df2 = pd.DataFrame(data2)\n",
    "df2.head()"
   ]
  },
  {
   "cell_type": "markdown",
   "id": "c51e1d1a-e6f2-4c8c-bb38-5f4896a6a465",
   "metadata": {},
   "source": [
    "Q4. What is ‘DataFrame’ in pandas and how is it different from pandas.series? Explain with an example."
   ]
  },
  {
   "cell_type": "markdown",
   "id": "d7c8859f-a19a-4dd4-abee-a40084167983",
   "metadata": {},
   "source": [
    "A Pandas DataFrame is a two-dimensional labeled data structure with columns of potentially different types. It can be thought of as a spreadsheet or a SQL table. Each column in a DataFrame is a Pandas Series, which is a one-dimensional labeled array capable of holding data of any type (integer, float, string, etc.). The key difference between a DataFrame and a Series is that a DataFrame can hold multiple columns of data, whereas a Series can hold only a single column of data."
   ]
  },
  {
   "cell_type": "code",
   "execution_count": 25,
   "id": "affba7cd-392d-4f73-b75c-d38a56dc19c9",
   "metadata": {},
   "outputs": [
    {
     "name": "stdout",
     "output_type": "stream",
     "text": [
      "Series:\n",
      "0    10\n",
      "1    20\n",
      "2    30\n",
      "3    40\n",
      "4    50\n",
      "Name: numbers, dtype: int64\n",
      "\n",
      "DataFrame:\n",
      "      name  age    country\n",
      "0    Alice   25        USA\n",
      "1      Bob   30     Canada\n",
      "2  Charlie   35  Australia\n",
      "3     Dave   40         UK\n"
     ]
    }
   ],
   "source": [
    "import pandas as pd\n",
    "\n",
    "# create a Series\n",
    "series = pd.Series([10, 20, 30, 40, 50], name='numbers')\n",
    "\n",
    "# create a DataFrame from a dictionary\n",
    "data = {'name': ['Alice', 'Bob', 'Charlie', 'Dave'],\n",
    "        'age': [25, 30, 35, 40],\n",
    "        'country': ['USA', 'Canada', 'Australia', 'UK']}\n",
    "df = pd.DataFrame(data)\n",
    "\n",
    "# print the Series and DataFrame\n",
    "print(\"Series:\")\n",
    "print(series)\n",
    "\n",
    "print(\"\\nDataFrame:\")\n",
    "print(df)\n"
   ]
  },
  {
   "cell_type": "markdown",
   "id": "1d2ccc2a-b8dd-47d8-bafc-b8d9dca1809f",
   "metadata": {},
   "source": [
    "Q5. What are some common functions you can use to manipulate data in a Pandas DataFrame? Can\n",
    "you give an example of when you might use one of these functions?"
   ]
  },
  {
   "cell_type": "markdown",
   "id": "cb54bdaa-4ade-43db-8bdd-b4e1be70d963",
   "metadata": {},
   "source": [
    "There are many functions available in Pandas that can be used to manipulate data in a DataFrame. Here are a few common functions and their uses:\n",
    "\n",
    "head() and tail() - These functions can be used to display the first or last n rows of a DataFrame, respectively. They are useful for quickly checking the structure of the data in the DataFrame. For example, df.head(10) would display the first 10 rows of the DataFrame df.\n",
    "\n",
    "describe() - This function generates a statistical summary of the data in the DataFrame, including the count, mean, standard deviation, minimum, and maximum values for each column. It is useful for quickly getting a sense of the distribution of the data. For example, df.describe() would display the summary statistics for the DataFrame df.\n",
    "\n",
    "sort_values() - This function sorts the data in the DataFrame by one or more columns. It is useful for ordering the data in a meaningful way. For example, df.sort_values(by='age', ascending=False) would sort the data in the DataFrame df by age in descending order.\n",
    "\n",
    "groupby() - This function groups the data in the DataFrame by one or more columns and applies a function to each group. It is useful for performing aggregate operations on subsets of the data. For example, df.groupby('country').mean() would group the data in the DataFrame df by country and calculate the mean age for each country.\n",
    "\n",
    "drop() - This function removes one or more columns or rows from the DataFrame. It is useful for removing irrelevant or redundant data. For example, df.drop('name', axis=1) would remove the 'name' column from the DataFrame df.\n",
    "\n"
   ]
  },
  {
   "cell_type": "code",
   "execution_count": 26,
   "id": "6461bdfd-05ff-43e5-a91d-18cf935b504e",
   "metadata": {},
   "outputs": [
    {
     "name": "stdout",
     "output_type": "stream",
     "text": [
      "country\n",
      "Canada    32.5\n",
      "UK        40.0\n",
      "USA       30.0\n",
      "Name: age, dtype: float64\n"
     ]
    }
   ],
   "source": [
    "import pandas as pd\n",
    "\n",
    "# create a DataFrame\n",
    "data = {'name': ['Alice', 'Bob', 'Charlie', 'Dave', 'Emily', 'Frank'],\n",
    "        'age': [25, 30, 35, 40, 35, 30],\n",
    "        'country': ['USA', 'Canada', 'USA', 'UK', 'Canada', 'USA']}\n",
    "df = pd.DataFrame(data)\n",
    "\n",
    "# group the data by country and calculate the mean age for each country\n",
    "mean_age_by_country = df.groupby('country')['age'].mean()\n",
    "\n",
    "# print the mean age for each country\n",
    "print(mean_age_by_country)\n"
   ]
  },
  {
   "cell_type": "markdown",
   "id": "5af53530-1a98-4c2b-aea8-5b6b30db0a62",
   "metadata": {},
   "source": [
    "Q6. Which of the following is mutable in nature Series, DataFrame, Panel?"
   ]
  },
  {
   "cell_type": "markdown",
   "id": "a5fd79ed-4d04-440e-9238-96e2e570e1a2",
   "metadata": {},
   "source": [
    "In Pandas, Series and DataFrame are mutable objects, which means that their values can be changed after they have been created. Panel, on the other hand, is deprecated since version 0.25.0 and is no longer recommended to be used. Instead, for 3D data, xarray should be used which provides a more powerful and flexible multi-dimensional array data structure."
   ]
  },
  {
   "cell_type": "markdown",
   "id": "0582f752-684d-434e-8bd9-03b7d92b3baa",
   "metadata": {},
   "source": [
    "Q7. Create a DataFrame using multiple Series. Explain with an example."
   ]
  },
  {
   "cell_type": "code",
   "execution_count": 27,
   "id": "6d64aa66-10c2-4fcc-a9a4-10afca86210f",
   "metadata": {},
   "outputs": [
    {
     "name": "stdout",
     "output_type": "stream",
     "text": [
      "      name  age country\n",
      "0    Alice   25     USA\n",
      "1      Bob   30  Canada\n",
      "2  Charlie   35     USA\n",
      "3     Dave   40      UK\n",
      "4    Emily   35  Canada\n"
     ]
    }
   ],
   "source": [
    "import pandas as pd\n",
    "\n",
    "# create a series for each column of data\n",
    "names = pd.Series(['Alice', 'Bob', 'Charlie', 'Dave', 'Emily'])\n",
    "ages = pd.Series([25, 30, 35, 40, 35])\n",
    "countries = pd.Series(['USA', 'Canada', 'USA', 'UK', 'Canada'])\n",
    "\n",
    "# create a DataFrame using the series\n",
    "df = pd.DataFrame({'name': names, 'age': ages, 'country': countries})\n",
    "\n",
    "# print the DataFrame\n",
    "print(df)\n"
   ]
  }
 ],
 "metadata": {
  "kernelspec": {
   "display_name": "Python 3 (ipykernel)",
   "language": "python",
   "name": "python3"
  },
  "language_info": {
   "codemirror_mode": {
    "name": "ipython",
    "version": 3
   },
   "file_extension": ".py",
   "mimetype": "text/x-python",
   "name": "python",
   "nbconvert_exporter": "python",
   "pygments_lexer": "ipython3",
   "version": "3.10.8"
  }
 },
 "nbformat": 4,
 "nbformat_minor": 5
}
