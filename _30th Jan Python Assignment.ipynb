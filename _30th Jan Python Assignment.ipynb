{
 "cells": [
  {
   "cell_type": "markdown",
   "id": "6f344ae9-29b7-48a0-b9d3-e45e71870eca",
   "metadata": {},
   "source": [
    "Question 1 Write a Program to accept percentage from the user and display and display the grades according to the following criteria:"
   ]
  },
  {
   "cell_type": "code",
   "execution_count": 9,
   "id": "15c7a0ec-ff2c-42a7-853f-70a5ec5cef45",
   "metadata": {},
   "outputs": [
    {
     "name": "stdin",
     "output_type": "stream",
     "text": [
      "Enter Your Percentage: 85\n"
     ]
    },
    {
     "name": "stdout",
     "output_type": "stream",
     "text": [
      "Grade B\n"
     ]
    }
   ],
   "source": [
    "#Taking User Input\n",
    "user_input = int(input(\"Enter Your Percentage:\"))\n",
    "\n",
    "# Using If Else to display the grades according to the criteria\n",
    "if user_input > 90:\n",
    "    print(\"Grade A\")\n",
    "elif user_input > 80 and user_input <= 90:\n",
    "    print(\"Grade B\")\n",
    "elif user_input > 60 and user_input <=80:\n",
    "    print(\"Grade C\")\n",
    "else:\n",
    "    print(\"Grade D\")"
   ]
  },
  {
   "cell_type": "markdown",
   "id": "56c1340f-eb3c-4dbd-86bc-fc3927d3c8f7",
   "metadata": {},
   "source": [
    "Question 2 Write a program to accept the cost price of a bike and display the road tax to be paid according to the following criteria:"
   ]
  },
  {
   "cell_type": "code",
   "execution_count": 10,
   "id": "57db7d07-3769-4134-a0fd-cf863e6f0277",
   "metadata": {},
   "outputs": [
    {
     "name": "stdin",
     "output_type": "stream",
     "text": [
      "Enter the cost price of Bike 152200\n"
     ]
    },
    {
     "name": "stdout",
     "output_type": "stream",
     "text": [
      "The Road tax for your bike is 15%\n"
     ]
    }
   ],
   "source": [
    "# Taking User Input\n",
    "cost_price = int(input(\"Enter the cost price of Bike\"))\n",
    "\n",
    "# Using If Else display the road tax according to the Bike price\n",
    "\n",
    "if cost_price > 100000:\n",
    "    print(\"The Road tax for your bike is 15%\")\n",
    "elif cost_price > 50000 and cost_price <= 100000:\n",
    "    print(\"The Road tax for your bike is 10%\")\n",
    "else:\n",
    "    print(\"The Road tax for your bike is 5%\")"
   ]
  },
  {
   "cell_type": "markdown",
   "id": "e4f45f57-5af7-4f65-b8c0-20fd88e7cd63",
   "metadata": {},
   "source": [
    "Question 3 Accept anyt city from the user and display monuments of that city."
   ]
  },
  {
   "cell_type": "code",
   "execution_count": 11,
   "id": "04fd8984-cff9-4196-acda-55336e09598e",
   "metadata": {},
   "outputs": [
    {
     "name": "stdin",
     "output_type": "stream",
     "text": [
      "Enter the City Name Delhi\n"
     ]
    },
    {
     "name": "stdout",
     "output_type": "stream",
     "text": [
      "Red Fort\n"
     ]
    }
   ],
   "source": [
    "# Taking the city name from the user\n",
    "\n",
    "city=input(\"Enter the City Name\")\n",
    "\n",
    "# Displaying monuments by city\n",
    "\n",
    "if city == \"Delhi\":\n",
    "    print(\"Red Fort\")\n",
    "elif city == \"Agra\":\n",
    "    print(\"Taj Mahal\")\n",
    "elif city == \"Jaipur\":\n",
    "    print(\"Jal Mahal\")\n",
    "else:\n",
    "    print(\"Invalid Selection Please try agaim!\")"
   ]
  },
  {
   "cell_type": "markdown",
   "id": "b52008da-3dd4-4e98-bb5f-4b328bca7bc3",
   "metadata": {},
   "source": [
    "Question 4 Check how many times a given number can be divided by 3 before it is less than or equal to 10."
   ]
  },
  {
   "cell_type": "code",
   "execution_count": 12,
   "id": "bb198240-0946-4836-b1a2-109919716f3f",
   "metadata": {},
   "outputs": [
    {
     "name": "stdin",
     "output_type": "stream",
     "text": [
      "Enter any number:  57\n"
     ]
    },
    {
     "name": "stdout",
     "output_type": "stream",
     "text": [
      "2\n"
     ]
    }
   ],
   "source": [
    "#Taking the number input from the user\n",
    "\n",
    "num = int(input(\"Enter any number: \"))\n",
    "\n",
    "# \n",
    "count = 0\n",
    "if num % 3 == 0:\n",
    "    while num >= 10:\n",
    "        num = num/3\n",
    "        count +=1\n",
    "print(count)"
   ]
  },
  {
   "cell_type": "markdown",
   "id": "c96dc6af-d241-44ba-aee5-aa507b97670c",
   "metadata": {},
   "source": [
    "Question 5 Why and when to use while loop in python give a detailed description with example."
   ]
  },
  {
   "cell_type": "code",
   "execution_count": 1,
   "id": "57372bb1-b29d-4d5c-b21f-a59f1b516430",
   "metadata": {},
   "outputs": [
    {
     "name": "stdout",
     "output_type": "stream",
     "text": [
      "Data Science\n",
      "Data Science\n",
      "Data Science\n",
      "Data Science\n",
      "Data Science\n",
      "Data Science\n",
      "Data Science\n",
      "Data Science\n",
      "Data Science\n",
      "Data Science\n"
     ]
    }
   ],
   "source": [
    "'''A \"While\" Loop is used to iterate over a specific block of code until a condition is met.\n",
    "For example, if we want to ask a user for a number between 1 and 10, we don't know how many\n",
    "times the user might enter a larger number, so we keep asking \"while the number is not\n",
    "between 1 and 10\". A for loop is used when we (or the computer) know exactly\n",
    "how many times to execute a section of code (such as shuffling a deck of cards).'''\n",
    "\n",
    "#For Example:\n",
    "\n",
    "i=0\n",
    "while i<10:\n",
    "    print(\"Data Science\")\n",
    "    i += 1"
   ]
  },
  {
   "cell_type": "markdown",
   "id": "aef53b82-bda9-4fc4-8c09-7a91d95b2957",
   "metadata": {},
   "source": [
    "Question 6 Use nested while loop to print 3 different pattern"
   ]
  },
  {
   "cell_type": "code",
   "execution_count": 9,
   "id": "336fb838-2e35-4a94-b075-85a7d8e2f9ca",
   "metadata": {},
   "outputs": [
    {
     "name": "stdout",
     "output_type": "stream",
     "text": [
      "* \n",
      "* * \n",
      "* * * \n",
      "* * * * \n",
      "* * * * * \n",
      "* * * * * * \n",
      "* * * * * * * \n",
      "* * * * * * * * \n",
      "* * * * * * * * * \n",
      "* * * * * * * * * * \n"
     ]
    }
   ],
   "source": [
    "# First Pattern\n",
    "\n",
    "n = 10\n",
    "i = 1\n",
    "j = 1\n",
    "while i <= n:\n",
    "    while j <= i:\n",
    "        print(\"*\", end = \" \")\n",
    "        j += 1\n",
    "    j = 1    \n",
    "    i += 1\n",
    "    print()"
   ]
  },
  {
   "cell_type": "code",
   "execution_count": 2,
   "id": "42de734d-2b10-47fd-ab42-27b3e0cc835e",
   "metadata": {},
   "outputs": [
    {
     "name": "stdout",
     "output_type": "stream",
     "text": [
      "1 \n",
      "2 2 \n",
      "3 3 3 \n",
      "4 4 4 4 \n",
      "5 5 5 5 5 \n",
      "6 6 6 6 6 6 \n",
      "7 7 7 7 7 7 7 \n",
      "8 8 8 8 8 8 8 8 \n",
      "9 9 9 9 9 9 9 9 9 \n",
      "10 10 10 10 10 10 10 10 10 10 \n"
     ]
    }
   ],
   "source": [
    "# Second Pattern\n",
    "\n",
    "n = 10\n",
    "i = 1\n",
    "j = 1\n",
    "\n",
    "while i <= n:\n",
    "    while j <= i:\n",
    "        print(i, end = \" \")\n",
    "        j += 1\n",
    "    i += 1\n",
    "    j = 1\n",
    "    print ()"
   ]
  },
  {
   "cell_type": "code",
   "execution_count": 3,
   "id": "6ca6734f-9291-4951-85e5-544b4f0bfecf",
   "metadata": {},
   "outputs": [
    {
     "name": "stdout",
     "output_type": "stream",
     "text": [
      "* * * * * * * * \n",
      "* * * * * * * \n",
      "* * * * * * \n",
      "* * * * * \n",
      "* * * * \n",
      "* * * \n",
      "* * \n",
      "* \n"
     ]
    }
   ],
   "source": [
    "# Third Pattern\n",
    "\n",
    "n = 8\n",
    "i = 1\n",
    "j = 8\n",
    "\n",
    "while i <= n:\n",
    "    while j >= i:\n",
    "        print(\"*\" , end=\" \")\n",
    "        j -=1\n",
    "    j = 8\n",
    "    i += 1\n",
    "    print ()\n",
    "        \n",
    "\n"
   ]
  },
  {
   "cell_type": "markdown",
   "id": "b43f9cca-484d-483c-9d0e-49e784f30bbb",
   "metadata": {},
   "source": [
    "Question 7 Reverse a while loop to display numbers from 10 to 1."
   ]
  },
  {
   "cell_type": "code",
   "execution_count": 4,
   "id": "0da1f699-6f1a-458b-8511-cb5cdcadb15a",
   "metadata": {},
   "outputs": [
    {
     "name": "stdout",
     "output_type": "stream",
     "text": [
      "10\n",
      "9\n",
      "8\n",
      "7\n",
      "6\n",
      "5\n",
      "4\n",
      "3\n",
      "2\n",
      "1\n"
     ]
    }
   ],
   "source": [
    "#upper limit\n",
    "upper = 10\n",
    "#lower Limit\n",
    "lower = 1\n",
    "while upper >= lower :\n",
    "    print(upper)\n",
    "    upper -=1"
   ]
  },
  {
   "cell_type": "markdown",
   "id": "9112aa9a-12f1-4867-9861-d24edf0c317a",
   "metadata": {},
   "source": [
    "Question 8 Reverse a while loop to display numbers from 10 to 1."
   ]
  },
  {
   "cell_type": "code",
   "execution_count": 5,
   "id": "3a78795c-41af-415d-bc90-a90849b8a32f",
   "metadata": {},
   "outputs": [
    {
     "name": "stdout",
     "output_type": "stream",
     "text": [
      "10\n",
      "9\n",
      "8\n",
      "7\n",
      "6\n",
      "5\n",
      "4\n",
      "3\n",
      "2\n",
      "1\n"
     ]
    }
   ],
   "source": [
    "#upper limit\n",
    "upper = 10\n",
    "#lower Limit\n",
    "lower = 1\n",
    "while upper >= lower :\n",
    "    print(upper)\n",
    "    upper -=1"
   ]
  }
 ],
 "metadata": {
  "kernelspec": {
   "display_name": "Python 3 (ipykernel)",
   "language": "python",
   "name": "python3"
  },
  "language_info": {
   "codemirror_mode": {
    "name": "ipython",
    "version": 3
   },
   "file_extension": ".py",
   "mimetype": "text/x-python",
   "name": "python",
   "nbconvert_exporter": "python",
   "pygments_lexer": "ipython3",
   "version": "3.10.8"
  }
 },
 "nbformat": 4,
 "nbformat_minor": 5
}
