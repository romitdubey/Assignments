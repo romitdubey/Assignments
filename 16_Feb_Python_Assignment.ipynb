{
 "cells": [
  {
   "cell_type": "markdown",
   "id": "e3415b30-b21d-4e90-a923-258f6f9521ac",
   "metadata": {},
   "source": [
    "Q1. What is a database? Differentiate between SQL and NoSQL databases."
   ]
  },
  {
   "cell_type": "markdown",
   "id": "ea1ba0f8-73c3-44ee-a5b2-9aba93cbb74f",
   "metadata": {},
   "source": [
    "A database is a collection of organized data that is structured in a way to allow for efficient retrieval, storage, and manipulation of data. Databases are used to store large amounts of data and are used in various applications and systems, such as websites, enterprise applications, and more.\n",
    "\n",
    "SQL and NoSQL are two main types of databases, and they differ in how they store and retrieve data:\n",
    "\n",
    "SQL (Structured Query Language) databases are relational databases that store data in tables with predefined relationships between them. The tables are linked through foreign keys, which create relationships between different tables. SQL databases are highly structured and follow a schema that defines the relationships between tables. SQL is a powerful language used to manage and query structured data in these databases.\n",
    "\n",
    "NoSQL (Not Only SQL) databases, on the other hand, are non-relational databases that do not use tables or predefined schemas. Instead, NoSQL databases use various data models such as document-based, key-value, graph-based, or column-family databases to store and retrieve data. NoSQL databases are highly scalable and flexible, and they are well suited for handling unstructured and semi-structured data."
   ]
  },
  {
   "cell_type": "markdown",
   "id": "f670f742-b84d-4762-bdde-962ea61a8ae7",
   "metadata": {},
   "source": [
    "Q2. What is DDL? Explain why CREATE, DROP, ALTER, and TRUNCATE are used with an example."
   ]
  },
  {
   "cell_type": "markdown",
   "id": "eddee2eb-1d52-4782-8b2a-0e34705539ca",
   "metadata": {},
   "source": [
    "'''DDL stands for Data Definition Language, which is a subset of SQL (Structured Query Language)\n",
    "used to define the structure and layout of a database. DDL statements are used to create, modify,\n",
    "and delete database objects such as tables, views, indexes, and constraints.'''\n",
    "\n",
    "#Create\n",
    "CREATE TABLE customers (\n",
    "   id INT PRIMARY KEY,\n",
    "   name VARCHAR(255),\n",
    "   email VARCHAR(255),\n",
    "   phone VARCHAR(20)\n",
    ");\n",
    "\n",
    "#Drop\n",
    "\n",
    "DROP TABLE customers;\n",
    "\n",
    "#Alter\n",
    "\n",
    "ALTER TABLE customers ADD address VARCHAR(255);\n",
    "\n",
    "#Truncate\n",
    "\n",
    "TRUNCATE TABLE customers;\n"
   ]
  },
  {
   "cell_type": "markdown",
   "id": "59a5d5ad-e94c-4fa0-ac7e-95a744e7497f",
   "metadata": {},
   "source": [
    "Q3. What is DML? Explain INSERT, UPDATE, and DELETE with an example."
   ]
  },
  {
   "cell_type": "markdown",
   "id": "a17a6855-1de0-4148-b581-71a2e8c878ab",
   "metadata": {},
   "source": [
    "DML stands for Data Manipulation Language, which is a subset of SQL (Structured Query Language)\n",
    "used to manipulate data within a database. DML statements are used to insert, update, and delete\n",
    "data within tables.\n",
    "\n",
    "#Insert\n",
    "\n",
    "INSERT INTO employees (id, name, age, salary)\n",
    "VALUES (101, 'John Smith', 35, 50000);\n",
    "\n",
    "#Update\n",
    "\n",
    "UPDATE employees\n",
    "SET salary = 60000\n",
    "WHERE id = 101;\n",
    "\n",
    "#Delete\n",
    "\n",
    "DELETE FROM employees\n",
    "WHERE id = 101;"
   ]
  },
  {
   "cell_type": "markdown",
   "id": "7c47dbc2-8d66-485d-a1e1-586d977874f8",
   "metadata": {},
   "source": [
    "Q4. What is DQL? Explain SELECT with an example."
   ]
  },
  {
   "cell_type": "markdown",
   "id": "07c8e03a-200a-4969-a3f5-279402797d64",
   "metadata": {},
   "source": [
    "DQL stands for Data Query Language, which is a subset of SQL (Structured Query Language) used to retrieve data from a database. DQL commands are used to select and manipulate data in a database, and one of the most common DQL commands is the SELECT statement.\n",
    "\n",
    "#Select\n",
    "\n",
    "SELECT column1, column2, ...\n",
    "FROM table_name\n",
    "WHERE condition;\n"
   ]
  },
  {
   "cell_type": "markdown",
   "id": "e78c8f40-aefe-4bb7-8f80-b12a8c3b375e",
   "metadata": {},
   "source": [
    "Q5. Explain Primary Key and Foreign Key."
   ]
  },
  {
   "cell_type": "markdown",
   "id": "82132fd6-597b-4141-88aa-8904d92ae3cf",
   "metadata": {},
   "source": [
    "Primary Key:\n",
    "A primary key is a unique identifier for each record in a table. It is a column or a combination of columns that uniquely identifies a row in a table. Primary keys must be unique and cannot contain null values. In other words, a primary key must be a value that identifies a single record in the table.\n",
    "\n",
    "Foreign Key:\n",
    "A foreign key is a column or set of columns in one table that refers to the primary key of another table. It is used to establish a relationship between two tables. The foreign key constraint ensures that the value in the foreign key column(s) matches a primary key value in the referenced table."
   ]
  },
  {
   "cell_type": "markdown",
   "id": "a0991ee3-5beb-4e40-a8a2-029dde1060e9",
   "metadata": {},
   "source": [
    "Q6. Write a python code to connect MySQL to python. Explain the cursor() and execute() method."
   ]
  },
  {
   "cell_type": "code",
   "execution_count": null,
   "id": "5827a3eb-55ad-48f6-b9ac-4c6aac922dee",
   "metadata": {},
   "outputs": [],
   "source": [
    "import mysql.connector\n",
    "\n",
    "# establish a connection to MySQL server\n",
    "mydb = mysql.connector.connect(\n",
    "  host=\"localhost\",\n",
    "  user=\"yourusername\",\n",
    "  password=\"yourpassword\",\n",
    "  database=\"yourdatabase\"\n",
    ")\n",
    "\n",
    "# create a cursor object to interact with the database\n",
    "mycursor = mydb.cursor()\n",
    "\n",
    "# execute a query\n",
    "mycursor.execute(\"SELECT * FROM customers\")\n",
    "\n",
    "# fetch the result set\n",
    "result = mycursor.fetchall()\n"
   ]
  },
  {
   "cell_type": "markdown",
   "id": "ca9c572a-f3f6-4274-b403-f4e9a130dae5",
   "metadata": {},
   "source": [
    "Q7. Give the order of execution of SQL clauses in an SQL query."
   ]
  },
  {
   "cell_type": "markdown",
   "id": "5af5aa71-160f-4fcc-b0ed-f0d99955e8db",
   "metadata": {},
   "source": [
    "In SQL, the order of execution of clauses in a query is as follows:\n",
    "\n",
    "FROM: This clause specifies the table(s) or view(s) from which the data is retrieved.\n",
    "\n",
    "WHERE: This clause filters the results based on a specific condition or set of conditions.\n",
    "\n",
    "GROUP BY: This clause groups the results by one or more columns.\n",
    "\n",
    "HAVING: This clause filters the groups based on a specific condition or set of conditions.\n",
    "\n",
    "SELECT: This clause selects the columns to be displayed in the result set.\n",
    "\n",
    "DISTINCT: This clause removes duplicate rows from the result set.\n",
    "\n",
    "ORDER BY: This clause sorts the result set by one or more columns.\n",
    "\n",
    "LIMIT: This clause limits the number of rows returned in the result set."
   ]
  }
 ],
 "metadata": {
  "kernelspec": {
   "display_name": "Python 3 (ipykernel)",
   "language": "python",
   "name": "python3"
  },
  "language_info": {
   "codemirror_mode": {
    "name": "ipython",
    "version": 3
   },
   "file_extension": ".py",
   "mimetype": "text/x-python",
   "name": "python",
   "nbconvert_exporter": "python",
   "pygments_lexer": "ipython3",
   "version": "3.10.8"
  }
 },
 "nbformat": 4,
 "nbformat_minor": 5
}
