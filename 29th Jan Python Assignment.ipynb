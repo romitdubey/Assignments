{
 "cells": [
  {
   "cell_type": "code",
   "execution_count": null,
   "id": "474cf8fb-0b96-4afd-95a6-1b9d69551f71",
   "metadata": {},
   "outputs": [],
   "source": [
    "Q1. Who developed Python Programming Language?\n",
    "A1. Guido van Rossum"
   ]
  },
  {
   "cell_type": "code",
   "execution_count": null,
   "id": "8db5f75e-2274-43c6-9153-768313418870",
   "metadata": {},
   "outputs": [],
   "source": [
    "Q2. Which type of Programming does Python support? \n",
    "A2. Object-oriented programming and structured programming."
   ]
  },
  {
   "cell_type": "code",
   "execution_count": null,
   "id": "6d645b8d-a035-4519-b73d-b3754a3c6b75",
   "metadata": {},
   "outputs": [],
   "source": [
    "Q3. Is Python case sensitive when dealing with identifiers?\n",
    "A3. Yes"
   ]
  },
  {
   "cell_type": "code",
   "execution_count": null,
   "id": "103c55cc-fbd9-48ee-ad48-833b0747af88",
   "metadata": {},
   "outputs": [],
   "source": [
    "Q4. What is the correct extension of the Python file?\n",
    "A4. .py"
   ]
  },
  {
   "cell_type": "code",
   "execution_count": null,
   "id": "498f156d-515e-4793-94d0-03f86e14f326",
   "metadata": {},
   "outputs": [],
   "source": [
    "Q5. Is Python code compiled or interpreted?\n",
    "A5. Python is both compiled and interpreted languageb"
   ]
  },
  {
   "cell_type": "code",
   "execution_count": null,
   "id": "cc0e97b0-aa79-42c7-9cad-d52fc121966f",
   "metadata": {},
   "outputs": [],
   "source": [
    "Q6. Name a few blocks of code used to define in Python language?\n",
    "A6. indentation"
   ]
  },
  {
   "cell_type": "code",
   "execution_count": null,
   "id": "c533c62f-aa56-4777-8285-59346b813424",
   "metadata": {},
   "outputs": [],
   "source": [
    "Q7. State a character used to give single-line comments in Python?\n",
    "A7. (#)"
   ]
  },
  {
   "cell_type": "code",
   "execution_count": null,
   "id": "5585eb52-ce81-4497-b7ad-02c38dcbeb77",
   "metadata": {},
   "outputs": [],
   "source": [
    "Q8. Mention functions which can help us to find the version of python that we are currently working on?\n",
    "A8. sys.version"
   ]
  },
  {
   "cell_type": "code",
   "execution_count": null,
   "id": "0b996f41-d772-4353-a1b3-9c06737c4a8b",
   "metadata": {},
   "outputs": [],
   "source": [
    "Q9. Python supports the creation of anonymous functions at runtime, using a construct called\n",
    "A9. lambda"
   ]
  },
  {
   "cell_type": "code",
   "execution_count": null,
   "id": "7ca6dd2a-7c1e-4677-9ff3-9f706ca37ff6",
   "metadata": {},
   "outputs": [],
   "source": [
    "Q10. What does pip stand for python?\n",
    "A10. preferred installer program"
   ]
  },
  {
   "cell_type": "code",
   "execution_count": null,
   "id": "00e2c71f-872f-4652-8d30-81be139efdf2",
   "metadata": {},
   "outputs": [],
   "source": [
    "Q11. Mention a few built-in functions in python?\n",
    "A11. print, type, input, max"
   ]
  },
  {
   "cell_type": "code",
   "execution_count": null,
   "id": "5f15a015-62dc-4283-8145-dc1ea7e67fa6",
   "metadata": {},
   "outputs": [],
   "source": [
    "Q12. What is the maximum possible length of an identifier in Python?\n",
    "A12. 79 characters"
   ]
  },
  {
   "cell_type": "code",
   "execution_count": null,
   "id": "ceb4b4be-84fc-44c9-9ab5-04e039f45ca6",
   "metadata": {},
   "outputs": [],
   "source": [
    "Q13. What are the benefits of using Python?\n",
    "A13. Python is open-source, and easy to learn. There are many libraries available in python for Data Science."
   ]
  },
  {
   "cell_type": "code",
   "execution_count": null,
   "id": "7f0fea9c-d708-44be-a96e-6711aeb05196",
   "metadata": {},
   "outputs": [],
   "source": [
    "Q14. How is memory managed in Python?\n",
    "A14. Python use garbage colletor to manage the memory"
   ]
  },
  {
   "cell_type": "code",
   "execution_count": null,
   "id": "83aa9da5-d3e2-48ff-a829-dd6342d3b743",
   "metadata": {},
   "outputs": [],
   "source": [
    "Q15. How to install Python on Windows and set path variables?\n",
    "A15. For installing python we need to go the official website of python and download it and install it. While installing there is option \n",
    "to set the path variable so we have to tick that option and click the intall button."
   ]
  },
  {
   "cell_type": "code",
   "execution_count": null,
   "id": "a5200280-99b4-497e-867c-fdf18969e5fa",
   "metadata": {},
   "outputs": [],
   "source": [
    "Q16. Is indentation required in python?\n",
    "A16. Yes indentation required in python."
   ]
  }
 ],
 "metadata": {
  "kernelspec": {
   "display_name": "Python 3 (ipykernel)",
   "language": "python",
   "name": "python3"
  },
  "language_info": {
   "codemirror_mode": {
    "name": "ipython",
    "version": 3
   },
   "file_extension": ".py",
   "mimetype": "text/x-python",
   "name": "python",
   "nbconvert_exporter": "python",
   "pygments_lexer": "ipython3",
   "version": "3.10.8"
  }
 },
 "nbformat": 4,
 "nbformat_minor": 5
}
