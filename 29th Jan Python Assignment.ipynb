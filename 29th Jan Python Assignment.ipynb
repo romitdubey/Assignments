{
 "cells": [
  {
   "cell_type": "markdown",
   "id": "15901276-91a9-482d-aeef-78ed63a8f9b9",
   "metadata": {},
   "source": [
    "Q1. Who developed Python Programming Language?\n",
    "A1. Guido van Rossum"
   ]
  },
  {
   "cell_type": "markdown",
   "id": "279b7a01-ca93-4709-b184-df90522b69d8",
   "metadata": {},
   "source": [
    "Q2. Which type of Programming does Python support? \n",
    "A2. Object-oriented programming and structured programming."
   ]
  },
  {
   "cell_type": "markdown",
   "id": "cce4cc54-e962-4479-9a62-cd026ba20c92",
   "metadata": {},
   "source": [
    "Q3. Is Python case sensitive when dealing with identifiers?\n",
    "A3. Yes"
   ]
  },
  {
   "cell_type": "markdown",
   "id": "c38fa9b0-7404-4fb5-9742-a42e7a0b1ec3",
   "metadata": {},
   "source": [
    "Q4. What is the correct extension of the Python file?\n",
    "A4. .py"
   ]
  },
  {
   "cell_type": "markdown",
   "id": "13c0c21d-0c29-48f2-8838-bd91bff1210f",
   "metadata": {},
   "source": [
    "Q5. Is Python code compiled or interpreted?\n",
    "A5. Python is both compiled and interpreted languageb"
   ]
  },
  {
   "cell_type": "markdown",
   "id": "d72e6b60-536c-4915-83e0-4a1553f62307",
   "metadata": {},
   "source": [
    "Q6. Name a few blocks of code used to define in Python language?\n",
    "A6. indentation"
   ]
  },
  {
   "cell_type": "markdown",
   "id": "8dd7144d-52e8-49fc-8ce3-b3975449db0c",
   "metadata": {},
   "source": [
    "Q7. State a character used to give single-line comments in Python?\n",
    "A7. (#)"
   ]
  },
  {
   "cell_type": "markdown",
   "id": "23c4f46e-2aa7-4254-b851-5f16d310017a",
   "metadata": {},
   "source": [
    "Q8. Mention functions which can help us to find the version of python that we are currently working on?\n",
    "A8. sys.version"
   ]
  },
  {
   "cell_type": "markdown",
   "id": "4944c466-d539-4df5-8ca8-f80af47cf041",
   "metadata": {},
   "source": [
    "Q9. Python supports the creation of anonymous functions at runtime, using a construct called\n",
    "A9. lambda"
   ]
  },
  {
   "cell_type": "markdown",
   "id": "262452e3-633b-4ec4-bcb4-7843196a8cd8",
   "metadata": {},
   "source": [
    "Q10. What does pip stand for python?\n",
    "A10. preferred installer program"
   ]
  },
  {
   "cell_type": "markdown",
   "id": "651ade82-4e64-4b25-9799-c8b46b0034b7",
   "metadata": {},
   "source": [
    "Q11. Mention a few built-in functions in python?\n",
    "A11. print, type, input, max"
   ]
  },
  {
   "cell_type": "markdown",
   "id": "349d28a4-88c8-4f35-b9de-ceac1e76ecd3",
   "metadata": {},
   "source": [
    "Q12. What is the maximum possible length of an identifier in Python?\n",
    "A12. 79 characters"
   ]
  },
  {
   "cell_type": "markdown",
   "id": "01807350-41dd-41eb-8d82-5a0450a52479",
   "metadata": {},
   "source": [
    "Q13. What are the benefits of using Python?\n",
    "A13. Python is open-source, and easy to learn. There are many libraries available in python for Data Science."
   ]
  },
  {
   "cell_type": "markdown",
   "id": "33596254-f013-45d8-af45-1f2b6b3097b8",
   "metadata": {},
   "source": [
    "Q14. How is memory managed in Python?\n",
    "A14. Python use garbage colletor to manage the memory"
   ]
  },
  {
   "cell_type": "markdown",
   "id": "901f996e-3f79-403d-8ff2-5cd777bcef7a",
   "metadata": {},
   "source": [
    "Q15. How to install Python on Windows and set path variables?\n",
    "A15. For installing python we need to go the official website of python and download it and install it. While installing there is option \n",
    "to set the path variable so we have to tick that option and click the intall button."
   ]
  },
  {
   "cell_type": "markdown",
   "id": "d2ea77b3-b909-4828-bbcf-d2eba9c71231",
   "metadata": {},
   "source": [
    "Q16. Is indentation required in python?\n",
    "A16. Yes indentation required in python."
   ]
  }
 ],
 "metadata": {
  "kernelspec": {
   "display_name": "Python 3 (ipykernel)",
   "language": "python",
   "name": "python3"
  },
  "language_info": {
   "codemirror_mode": {
    "name": "ipython",
    "version": 3
   },
   "file_extension": ".py",
   "mimetype": "text/x-python",
   "name": "python",
   "nbconvert_exporter": "python",
   "pygments_lexer": "ipython3",
   "version": "3.10.8"
  }
 },
 "nbformat": 4,
 "nbformat_minor": 5
}
