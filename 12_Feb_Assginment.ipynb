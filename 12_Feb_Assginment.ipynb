{
 "cells": [
  {
   "cell_type": "markdown",
   "id": "ed0414fa-4b70-4130-8126-cca49d7d9258",
   "metadata": {},
   "source": [
    "Q1. What is an Exception in python? Write the difference between Exceptions and Syntax errors."
   ]
  },
  {
   "cell_type": "markdown",
   "id": "41e60acc-1d40-4a65-ac2a-c098bd2ed0a4",
   "metadata": {},
   "source": [
    "An exception in Python is an event that occurs during the execution of a program that disrupts the normal\n",
    "flow of the program's instructions. Exceptions can be raised when a runtime error occurs, such as when a\n",
    "divide-by-zero error occurs, when a file is not found, or when there is a type error in a function call.\n",
    "\n",
    "The difference between exceptions and syntax errors is that syntax errors are errors that occur when the\n",
    "Python interpreter encounters code that does not conform to the syntax rules of the language. These errors\n",
    "occur before the code is executed and prevent the code from running. Exceptions, on the other hand, occur\n",
    "during the execution of the code, after it has started running, and do not prevent the code from running.\n",
    "Instead, exceptions interrupt the normal flow of the code and trigger an exception handling mechanism, which\n",
    "can be used to take corrective action or to provide a user-friendly error message."
   ]
  },
  {
   "cell_type": "markdown",
   "id": "39f30806-aefd-42b2-83cd-bedf1051512f",
   "metadata": {},
   "source": [
    "Q2. What happens when an exception is not handled? Explain with an example."
   ]
  },
  {
   "cell_type": "code",
   "execution_count": 1,
   "id": "0213a52c-deaf-4ef7-b7b3-ed6d85ddc30d",
   "metadata": {},
   "outputs": [
    {
     "ename": "ZeroDivisionError",
     "evalue": "division by zero",
     "output_type": "error",
     "traceback": [
      "\u001b[0;31m---------------------------------------------------------------------------\u001b[0m",
      "\u001b[0;31mZeroDivisionError\u001b[0m                         Traceback (most recent call last)",
      "Cell \u001b[0;32mIn[1], line 10\u001b[0m\n\u001b[1;32m      7\u001b[0m \u001b[38;5;28;01mdef\u001b[39;00m \u001b[38;5;21mdivide\u001b[39m(a, b):\n\u001b[1;32m      8\u001b[0m     \u001b[38;5;28;01mreturn\u001b[39;00m a \u001b[38;5;241m/\u001b[39m b\n\u001b[0;32m---> 10\u001b[0m \u001b[38;5;28mprint\u001b[39m(\u001b[43mdivide\u001b[49m\u001b[43m(\u001b[49m\u001b[38;5;241;43m10\u001b[39;49m\u001b[43m,\u001b[49m\u001b[43m \u001b[49m\u001b[38;5;241;43m0\u001b[39;49m\u001b[43m)\u001b[49m)\n",
      "Cell \u001b[0;32mIn[1], line 8\u001b[0m, in \u001b[0;36mdivide\u001b[0;34m(a, b)\u001b[0m\n\u001b[1;32m      7\u001b[0m \u001b[38;5;28;01mdef\u001b[39;00m \u001b[38;5;21mdivide\u001b[39m(a, b):\n\u001b[0;32m----> 8\u001b[0m     \u001b[38;5;28;01mreturn\u001b[39;00m \u001b[43ma\u001b[49m\u001b[43m \u001b[49m\u001b[38;5;241;43m/\u001b[39;49m\u001b[43m \u001b[49m\u001b[43mb\u001b[49m\n",
      "\u001b[0;31mZeroDivisionError\u001b[0m: division by zero"
     ]
    }
   ],
   "source": [
    "'''When an exception is not handled, the Python interpreter terminates the execution of the program\n",
    "and generates an unhandled exception error message, also known as a traceback. The traceback includes\n",
    "information about the type of the exception, where it occurred in the code, and the sequence of function\n",
    "calls that led to the exception.'''\n",
    "\n",
    "#example\n",
    "def divide(a, b):\n",
    "    return a / b\n",
    "\n",
    "print(divide(10, 0))\n",
    "# Its throw an error of ZeroDivisionError"
   ]
  },
  {
   "cell_type": "markdown",
   "id": "77c1c61a-b427-405c-834a-56762b8a33cb",
   "metadata": {},
   "source": [
    "Q3. Which Python statements are used to catch and handle exceptions? Explain with an example."
   ]
  },
  {
   "cell_type": "code",
   "execution_count": 3,
   "id": "a9e2d312-5485-411d-b9d5-d8c4a1edc044",
   "metadata": {},
   "outputs": [
    {
     "name": "stdout",
     "output_type": "stream",
     "text": [
      "5.0\n",
      "Error: Division by zero\n",
      "None\n"
     ]
    }
   ],
   "source": [
    "'''The try and except statements in Python are used to catch and handle exceptions.\n",
    "The try statement encloses the code that might raise an exception, and the except\n",
    "statement specifies what to do in case an exception occurs.'''\n",
    "\n",
    "#Example\n",
    "\n",
    "def divide(a, b):\n",
    "    try:\n",
    "        result = a / b\n",
    "    except ZeroDivisionError:\n",
    "        print(\"Error: Division by zero\")\n",
    "    else:\n",
    "        return result\n",
    "\n",
    "print(divide(10, 2))\n",
    "print(divide(10, 0))\n"
   ]
  },
  {
   "cell_type": "markdown",
   "id": "429ae7bd-0df3-40cb-ab11-049343913b98",
   "metadata": {},
   "source": [
    "Q4. Explain with an example:\n",
    "\n",
    "a. try and else\n",
    "\n",
    "b. finally\n",
    "\n",
    "c. raise"
   ]
  },
  {
   "cell_type": "code",
   "execution_count": 4,
   "id": "10274c13-7162-4b7b-b65e-0e221d341008",
   "metadata": {},
   "outputs": [
    {
     "name": "stdout",
     "output_type": "stream",
     "text": [
      "5.0\n",
      "Error: Division by zero\n",
      "None\n"
     ]
    }
   ],
   "source": [
    "#try and else\n",
    "\n",
    "def divide(a, b):\n",
    "    try:\n",
    "        result = a / b\n",
    "    except ZeroDivisionError:\n",
    "        print(\"Error: Division by zero\")\n",
    "    else:\n",
    "        return result\n",
    "\n",
    "print(divide(10, 2))\n",
    "print(divide(10, 0))"
   ]
  },
  {
   "cell_type": "code",
   "execution_count": 5,
   "id": "dd6ca278-8f34-43fa-b87a-132a8fab6890",
   "metadata": {},
   "outputs": [
    {
     "name": "stdout",
     "output_type": "stream",
     "text": [
      "This is finally block\n",
      "5.0\n",
      "Error: Division by zero\n",
      "This is finally block\n",
      "None\n"
     ]
    }
   ],
   "source": [
    "# Finnaly\n",
    "\n",
    "def divide(a, b):\n",
    "    try:\n",
    "        result = a / b\n",
    "    except ZeroDivisionError:\n",
    "        print(\"Error: Division by zero\")\n",
    "    else:\n",
    "        return result\n",
    "    finally:\n",
    "        print(\"This is finally block\")\n",
    "\n",
    "print(divide(10, 2))\n",
    "print(divide(10, 0))"
   ]
  },
  {
   "cell_type": "code",
   "execution_count": 7,
   "id": "b379203f-0ae3-4c64-b663-843eb94ecce2",
   "metadata": {},
   "outputs": [
    {
     "name": "stdout",
     "output_type": "stream",
     "text": [
      "Age must be 18 or over\n"
     ]
    }
   ],
   "source": [
    "def check_age(age):\n",
    "    if age < 18:\n",
    "        raise ValueError(\"Age must be 18 or over\")\n",
    "    else:\n",
    "        return True\n",
    "\n",
    "try:\n",
    "    check_age(15)\n",
    "except ValueError as error:\n",
    "    print(error)\n"
   ]
  },
  {
   "cell_type": "markdown",
   "id": "52121b81-a196-4522-86c6-38b1db1f042f",
   "metadata": {},
   "source": [
    "Q5. What are Custom Exceptions in python? Why do we need Custom Exceptions? Explain with an example."
   ]
  },
  {
   "cell_type": "code",
   "execution_count": 10,
   "id": "79230e67-a80b-4980-9b6d-42ff9efca16e",
   "metadata": {},
   "outputs": [
    {
     "name": "stdout",
     "output_type": "stream",
     "text": [
      "Input must be positive\n"
     ]
    }
   ],
   "source": [
    "'''Custom exceptions in Python are user-defined exceptions that are created to handle specific errors\n",
    "or conditions in a program. They allow you to define your own exception types and raise exceptions that\n",
    "are tailored to the needs of your specific application.'''\n",
    "\n",
    "#example\n",
    "class InvalidInputError(Exception):\n",
    "    def __init__(self, message):\n",
    "        self.message = message\n",
    "\n",
    "def validate_input(value):\n",
    "    if value < 0:\n",
    "        raise InvalidInputError(\"Input must be positive\")\n",
    "    else:\n",
    "        return True\n",
    "\n",
    "try:\n",
    "    validate_input(-10)\n",
    "except InvalidInputError as error:\n",
    "    print(error.message)"
   ]
  },
  {
   "cell_type": "markdown",
   "id": "797524c0-a32f-45b6-beb7-2c25aefe8a84",
   "metadata": {},
   "source": [
    "Q6. Create a custom exception class. Use this class to handle an exception."
   ]
  },
  {
   "cell_type": "code",
   "execution_count": 19,
   "id": "1d22a27b-4f70-4ae9-8230-979a760ed794",
   "metadata": {},
   "outputs": [
    {
     "name": "stdin",
     "output_type": "stream",
     "text": [
      "Enter you age to check you are eligible for vote or not:  15\n"
     ]
    },
    {
     "name": "stdout",
     "output_type": "stream",
     "text": [
      "You must be 18+ year old\n"
     ]
    }
   ],
   "source": [
    "class error(Exception):\n",
    "    def __init__(self, message):\n",
    "        self.mesg = message\n",
    "        \n",
    "def age_checker(value):\n",
    "    if value < 18:\n",
    "        raise error(\"You must be 18+ year old\")\n",
    "    elif value > 200:\n",
    "        raise error(\"Age is greater than 200\")\n",
    "    else:\n",
    "        return True\n",
    "try:\n",
    "    age =int(input(\"Enter you age to check you are eligible for vote or not: \"))\n",
    "    age_checker(age)\n",
    "except error as e:\n",
    "    print(e.mesg)"
   ]
  }
 ],
 "metadata": {
  "kernelspec": {
   "display_name": "Python 3 (ipykernel)",
   "language": "python",
   "name": "python3"
  },
  "language_info": {
   "codemirror_mode": {
    "name": "ipython",
    "version": 3
   },
   "file_extension": ".py",
   "mimetype": "text/x-python",
   "name": "python",
   "nbconvert_exporter": "python",
   "pygments_lexer": "ipython3",
   "version": "3.10.8"
  }
 },
 "nbformat": 4,
 "nbformat_minor": 5
}
