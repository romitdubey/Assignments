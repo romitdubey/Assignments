{
 "cells": [
  {
   "cell_type": "markdown",
   "id": "b71a4b84-c272-4b03-ab6e-09e596964f94",
   "metadata": {},
   "source": [
    "Q1. What is Abstraction in OOps? Explain with an example."
   ]
  },
  {
   "cell_type": "markdown",
   "id": "50a93a7d-0049-40be-90fa-ba1f2043393e",
   "metadata": {},
   "source": [
    "Abstraction is a process of hiding the implementation details from the user and showing only the functionality.\n",
    "In object-oriented programming, abstraction is one of the fundamental principles. It is used to reduce the complexity\n",
    "of an object by hiding its internal details and exposing only its necessary features to the outside world."
   ]
  },
  {
   "cell_type": "code",
   "execution_count": 13,
   "id": "98a9763c-325b-4da9-abc6-6ba31dca370d",
   "metadata": {},
   "outputs": [
    {
     "name": "stdout",
     "output_type": "stream",
     "text": [
      "The name of employee is Rohan and age is 42. The salary is 10000\n",
      "The name of employee is Ajay and age is 32. The salary is 52000\n"
     ]
    }
   ],
   "source": [
    "#Example\n",
    "\n",
    "class employee:\n",
    "    \n",
    "    def __init__(self,name, age, salary):\n",
    "        self.__name = name\n",
    "        self.__age = age\n",
    "        self.__salary = salary\n",
    "    \n",
    "    def show_detail(self):\n",
    "        return f\"The name of employee is {self.__name} and age is {self.__age}. The salary is {self.__salary}\"\n",
    "\n",
    "#creating object\n",
    "\n",
    "rohan = employee(\"Rohan\",42,10000)\n",
    "ajay = employee(\"Ajay\", 32,52000)\n",
    "\n",
    "print(rohan.show_detail())\n",
    "print(ajay.show_detail())\n"
   ]
  },
  {
   "cell_type": "markdown",
   "id": "fc07e780-7e0e-44ed-971b-76527938aaee",
   "metadata": {},
   "source": [
    "Q2. Differentiate between Abstraction and Encapsulation. Explain with an example."
   ]
  },
  {
   "cell_type": "markdown",
   "id": "26e95ad2-588d-4f9c-aff0-07001180a017",
   "metadata": {},
   "source": [
    "Abstraction and encapsulation are two fundamental concepts in object-oriented programming.\n",
    "\n",
    "Abstraction refers to the act of representing essential features of an object, ignoring all irrelevant details. The idea behind abstraction is to hide complexity from the user, making it easier to use an object. Abstraction is achieved through inheritance, where a subclass represents the essential features of its parent class, or by using interfaces or abstract classes that define the behavior of an object without providing a full implementation.\n",
    "\n",
    "Encapsulation refers to the practice of wrapping data and methods within a single unit, or object. The idea behind encapsulation is to provide a secure mechanism for hiding the implementation details of a class from the outside world, and to allow the data to be manipulated only through the methods provided by the class. Encapsulation also enables the implementation of an object to change over time without affecting the user of that object.\n",
    "\n",
    "For example, consider a car. A car can be considered as an abstraction of its essential features such as the engine, transmission, wheels, etc. These features are represented in the form of a class called \"Car\", which can be further abstracted into subclasses such as \"SportsCar\", \"Sedan\", etc. The implementation of these subclasses provides the specific details of each type of car, but the user only sees the abstraction \"Car\". The data and methods of the Car class can be encapsulated to prevent unauthorized access, ensuring that the engine, transmission, and wheels are only accessible through the methods provided by the Car class.\n",
    "\n",
    "In short, Abstraction focuses on what an object does, while Encapsulation focuses on how an object does it."
   ]
  },
  {
   "cell_type": "markdown",
   "id": "6ecbf699-5ff4-40e4-bd7b-eb835c309658",
   "metadata": {},
   "source": [
    "Q3. What is abc module in python? Why is it used?"
   ]
  },
  {
   "cell_type": "markdown",
   "id": "cd793439-f67b-4f8f-9ba5-d8b7cd08e373",
   "metadata": {},
   "source": [
    "The \"abc\" module in Python is the abstract base class module. An abstract base class (ABC) is a class that cannot be instantiated, but serves as a base class for one or more derived classes. The purpose of an ABC is to define a common interface for a set of related classes, so that objects of those classes can be used interchangeably in the same code."
   ]
  },
  {
   "cell_type": "markdown",
   "id": "5868db79-22bc-4c89-9b6e-624efcacbe6d",
   "metadata": {},
   "source": [
    "Q4. How can we achieve data abstraction?"
   ]
  },
  {
   "cell_type": "markdown",
   "id": "ea92f3bb-072c-4929-9429-cc291b71f698",
   "metadata": {},
   "source": [
    "In Python, data abstraction can be achieved in several ways:\n",
    "\n",
    "1. Using classes and objects: Classes provide a way to define objects that encapsulate data and methods. By making some methods and data members private, you can restrict access to the implementation details of the class, and only expose the necessary information to the user.\n",
    "\n",
    "2. Using functions: Functions can also be used to provide data abstraction by encapsulating the implementation details of an algorithm. The user can call the function with appropriate parameters, and the function can return the necessary information, while hiding the implementation details.\n",
    "\n",
    "3. Using modules: A module is a file that contains definitions and statements, and can be imported into other programs. You can use modules to encapsulate the implementation details of a data structure or algorithm, and expose only the necessary information to the user.\n",
    "\n",
    "4. Using abstract base classes: The \"abc\" module in Python provides a mechanism for creating abstract base classes, which define a common interface for a set of related classes. By using abstract base classes, you can enforce a common interface for a set of related classes, making it easier to write code that can work with objects of different classes in a consistent way."
   ]
  },
  {
   "cell_type": "markdown",
   "id": "9f551925-b0fc-44f6-8da6-db087a08e89c",
   "metadata": {},
   "source": [
    "Q5. Can we create an instance of an abstract class? Explain your answer."
   ]
  },
  {
   "cell_type": "markdown",
   "id": "c2dce1c2-c12e-4202-93a6-a6974d519992",
   "metadata": {},
   "source": [
    "No, you cannot create an instance of an abstract class. An abstract class is a class that is intended to be used as a base class for other classes, but it cannot be instantiated itself."
   ]
  },
  {
   "cell_type": "code",
   "execution_count": 12,
   "id": "c64d93aa-dcc6-4a59-9d97-4fb7a17d899f",
   "metadata": {},
   "outputs": [
    {
     "name": "stdout",
     "output_type": "stream",
     "text": [
      "100.0\n"
     ]
    }
   ],
   "source": [
    "#Example\n",
    "\n",
    "from abc import ABC, abstractmethod\n",
    "\n",
    "class Shape(ABC):\n",
    "    #abstractmethod\n",
    "    def area(self):\n",
    "        pass\n",
    "\n",
    "class Triangle(Shape):\n",
    "    def __init__(self, base, height):\n",
    "        self.base = base\n",
    "        self.height = height\n",
    "\n",
    "    def area(self):\n",
    "        return 0.5 * self.base * self.height\n",
    "\n",
    "t = Triangle(10, 20)\n",
    "print(t.area())\n"
   ]
  }
 ],
 "metadata": {
  "kernelspec": {
   "display_name": "Python 3 (ipykernel)",
   "language": "python",
   "name": "python3"
  },
  "language_info": {
   "codemirror_mode": {
    "name": "ipython",
    "version": 3
   },
   "file_extension": ".py",
   "mimetype": "text/x-python",
   "name": "python",
   "nbconvert_exporter": "python",
   "pygments_lexer": "ipython3",
   "version": "3.10.8"
  }
 },
 "nbformat": 4,
 "nbformat_minor": 5
}
