{
 "cells": [
  {
   "cell_type": "markdown",
   "id": "0675d417-5d4e-4790-916d-87c8418d968e",
   "metadata": {},
   "source": [
    "Q1. Explain with an example each when to use a for loop and a while loop."
   ]
  },
  {
   "cell_type": "code",
   "execution_count": 1,
   "id": "ee2de9b2-07bf-422e-8016-7f923c1ad746",
   "metadata": {},
   "outputs": [
    {
     "name": "stdout",
     "output_type": "stream",
     "text": [
      "apple\n",
      "banana\n",
      "cherry\n"
     ]
    }
   ],
   "source": [
    "'''A for loop is used when you want to iterate over a sequence (such as a list, tuple, or string)\n",
    "and execute a block of code for each element in that sequence. For example, you can use a for\n",
    "loop to print out all the elements of a list:'''\n",
    "\n",
    "#For Example\n",
    "\n",
    "fruits = ['apple', 'banana', 'cherry']\n",
    "for fruit in fruits:\n",
    "    print(fruit)"
   ]
  },
  {
   "cell_type": "code",
   "execution_count": 2,
   "id": "8893e204-6931-4342-9e4d-744807349239",
   "metadata": {},
   "outputs": [
    {
     "name": "stdout",
     "output_type": "stream",
     "text": [
      "1\n",
      "2\n",
      "3\n",
      "4\n",
      "5\n",
      "6\n",
      "7\n",
      "8\n",
      "9\n",
      "10\n"
     ]
    }
   ],
   "source": [
    "'''A while loop is used when you want to repeat a block of code as long as a certain condition is \n",
    "met. For example,you can use a while loop to print out numbers from 1 to 10:'''\n",
    "\n",
    "#For Example\n",
    "\n",
    "count = 1\n",
    "while count <= 10:\n",
    "    print(count)\n",
    "    count += 1"
   ]
  },
  {
   "cell_type": "markdown",
   "id": "f506490c-fccc-4699-a15e-c0be5b95c1c2",
   "metadata": {},
   "source": [
    "Q2. Write a python program to print the sum and product of the first 10 natural numbers using for\n",
    "and while loop."
   ]
  },
  {
   "cell_type": "code",
   "execution_count": 20,
   "id": "d3526e0d-16b1-45ff-8933-ee15d8936763",
   "metadata": {},
   "outputs": [
    {
     "name": "stdout",
     "output_type": "stream",
     "text": [
      "The sum of the first natural number is:  55   and the product is:  3628800\n"
     ]
    }
   ],
   "source": [
    "# Using for loop to find sum and product of the first 10 natural numbers\n",
    "\n",
    "sum = 0\n",
    "product = 1\n",
    "for i in range (1,11):\n",
    "    sum = sum + i\n",
    "    product = product * i\n",
    "print(\"The sum of the first natural number is:  \" + str(sum) + \"   and the product is:  \" + str(product))\n",
    "    "
   ]
  },
  {
   "cell_type": "code",
   "execution_count": 19,
   "id": "81e8fbe6-45c2-45b3-8716-f5ef845ed150",
   "metadata": {},
   "outputs": [
    {
     "name": "stdout",
     "output_type": "stream",
     "text": [
      "The sum of the first natural number is:  55   and the product is:  3628800\n"
     ]
    }
   ],
   "source": [
    "# Using while loop to find sum and product of the first 10 natural numbers\n",
    "\n",
    "while_sum  = 0\n",
    "while_prod = 1\n",
    "j = 1\n",
    "\n",
    "while j <= 10:\n",
    "    while_sum = while_sum + j\n",
    "    while_prod = while_prod * j\n",
    "    j += 1\n",
    "print(\"The sum of the first natural number is:  \" + str(while_sum) + \"   and the product is:  \" + str(while_prod))"
   ]
  },
  {
   "cell_type": "markdown",
   "id": "b9a0f975-4ff6-48ce-8706-da8ae10ab01a",
   "metadata": {},
   "source": [
    "Q3. Create a python program to compute the electricity bill for a household.\n",
    "\n",
    "The per-unit charges in rupees are as follows: For the first 100 units, the user will be charged Rs. 4.5 per\n",
    "unit, for the next 100 units, the user will be charged Rs. 6 per unit, and for the next 100 units, the user will\n",
    "be charged Rs. 10 per unit, After 300 units and above the user will be charged Rs. 20 per unit.\n",
    "\n",
    "You are required to take the units of electricity counsumed in a month from the user as input."
   ]
  },
  {
   "cell_type": "code",
   "execution_count": 31,
   "id": "0a3c4c22-99ca-4b0d-a418-f4cb1eface00",
   "metadata": {},
   "outputs": [
    {
     "name": "stdin",
     "output_type": "stream",
     "text": [
      "Enter the units of electricity consumed:  160\n"
     ]
    },
    {
     "name": "stdout",
     "output_type": "stream",
     "text": [
      "The total electricity bill is: Rs. 810.0\n"
     ]
    }
   ],
   "source": [
    "\n",
    "units = int(input(\"Enter the units of electricity consumed: \"))\n",
    "\n",
    "if units <= 100:\n",
    "    bill = units * 4.5\n",
    "elif units <= 200:\n",
    "    bill = 100 * 4.5 + (units - 100) * 6\n",
    "elif units <= 300:\n",
    "    bill = 100 * 4.5 + 100 * 6 + (units - 200) * 10\n",
    "else:\n",
    "    bill = 100 * 4.5 + 100 * 6 + 100 * 10 + (units - 300) * 20\n",
    "\n",
    "print(\"The total electricity bill is: Rs.\", bill)"
   ]
  },
  {
   "cell_type": "markdown",
   "id": "31f5ec65-7325-4b84-84c8-fb30e2c6d283",
   "metadata": {},
   "source": [
    "Q4. Create a list of numbers from 1 to 100. Use for loop and while loop to calculate the cube of each\n",
    "number and if the cube of that number is divisible by 4 or 5 then append that number in a list and print\n",
    "that list."
   ]
  },
  {
   "cell_type": "code",
   "execution_count": 39,
   "id": "4f53ab55-34a5-4d48-a09a-b59c586def5a",
   "metadata": {},
   "outputs": [
    {
     "name": "stdout",
     "output_type": "stream",
     "text": [
      "[8, 64, 125, 216, 512, 1000, 1728, 2744, 3375, 4096, 5832, 8000, 10648, 13824, 15625, 17576, 21952, 27000, 32768, 39304, 42875, 46656, 54872, 64000, 74088, 85184, 91125, 97336, 110592, 125000, 140608, 157464, 166375, 175616, 195112, 216000, 238328, 262144, 274625, 287496, 314432, 343000, 373248, 405224, 421875, 438976, 474552, 512000, 551368, 592704, 614125, 636056, 681472, 729000, 778688, 830584, 857375, 884736, 941192, 1000000]\n"
     ]
    }
   ],
   "source": [
    "# creating a list of numbers from 1 to 100\n",
    "\n",
    "numbers=[]\n",
    "cube_of_numbers=[]\n",
    "\n",
    "for i in range(1,101):\n",
    "    numbers.append(i)\n",
    "    cube_of_numbers.append(i**3)\n",
    "    \n",
    "# calculting the cube of each number and checking the number is divisible by 4 or 5 and then append that number to a new list\n",
    "\n",
    "check_list = []\n",
    "for j in cube_of_numbers:\n",
    "    if j % 4 == 0 or j % 5 == 0:\n",
    "        check_list.append(j)\n",
    "print(check_list)"
   ]
  },
  {
   "cell_type": "markdown",
   "id": "ab60b1cd-6d5a-44e0-ab23-ebdfba23443e",
   "metadata": {},
   "source": [
    "Q5. Write a program to filter count vowels in the below-given string.\n",
    "string = \"I want to become a data scientist\""
   ]
  },
  {
   "cell_type": "code",
   "execution_count": 42,
   "id": "adb2c88d-8990-456d-a857-46ca71ac42d8",
   "metadata": {},
   "outputs": [
    {
     "name": "stdout",
     "output_type": "stream",
     "text": [
      "There are total 12 vowels in the string.\n"
     ]
    }
   ],
   "source": [
    "string = \"I want to become a data scientist\"\n",
    "count_vowel = 0\n",
    "\n",
    "for i in string:\n",
    "    if i.lower() in ['a','e','i','o','u']:\n",
    "        count_vowel +=1\n",
    "print(\"There are total \"+ str(count_vowel)+\" vowels in the string.\")"
   ]
  }
 ],
 "metadata": {
  "kernelspec": {
   "display_name": "Python 3 (ipykernel)",
   "language": "python",
   "name": "python3"
  },
  "language_info": {
   "codemirror_mode": {
    "name": "ipython",
    "version": 3
   },
   "file_extension": ".py",
   "mimetype": "text/x-python",
   "name": "python",
   "nbconvert_exporter": "python",
   "pygments_lexer": "ipython3",
   "version": "3.10.8"
  }
 },
 "nbformat": 4,
 "nbformat_minor": 5
}
