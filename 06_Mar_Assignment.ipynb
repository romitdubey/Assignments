{
 "cells": [
  {
   "cell_type": "markdown",
   "id": "44e833f2-0a2d-4bbc-9c67-2e398d727555",
   "metadata": {
    "jp-MarkdownHeadingCollapsed": true,
    "tags": []
   },
   "source": [
    "Q1. What is Statistics?"
   ]
  },
  {
   "cell_type": "markdown",
   "id": "aa09fc05-a343-4ce0-8304-a2f5b9ff63be",
   "metadata": {},
   "source": [
    "Statistics is the science of collecting and organizing and analyzing data."
   ]
  },
  {
   "cell_type": "markdown",
   "id": "50f2cb65-4f2e-4858-bb83-64b053e364e9",
   "metadata": {},
   "source": [
    "Q2. Define the different types of statistics and give an example of when each type might be used."
   ]
  },
  {
   "cell_type": "markdown",
   "id": "941ba89a-8ca4-4fd4-acaf-28c356ea945d",
   "metadata": {},
   "source": [
    "There are two types of Statistics:\n",
    "\n",
    "1. Descriptive Statistics\n",
    "\n",
    "2. Inferential Statistics\n",
    "\n",
    "Descriptive Statistics:\n",
    "Descriptive statistics is the branch of statistics that deals with the collection, analysis, interpretation, and presentation of data in a way that summarizes or describes the important features of a dataset. Descriptive statistics can be used to describe the central tendency, variability, and distribution of a dataset.\n",
    "\n",
    "Example: Suppose you want to describe the average weight of 100 people. You could use descriptive statistics to calculate the mean weight of the sample, the standard deviation, and the range of weights.\n",
    "\n",
    "Inferential Statistics:\n",
    "Inferential statistics is the branch of statistics that deals with making predictions or inferences about a population based on a sample of data. Inferential statistics can be used to test hypotheses, estimate parameters, and make predictions.\n",
    "\n",
    "Example: Suppose you want to know if a new drug is effective in treating a particular disease. You could use inferential statistics to test whether the observed improvement in patients is statistically significant, which would allow you to draw conclusions about the effectiveness of the drug in the larger population."
   ]
  },
  {
   "cell_type": "markdown",
   "id": "c6f483d4-5ca5-4a02-8616-17134e90a2c9",
   "metadata": {},
   "source": [
    "Q3. What are the different types of data and how do they differ from each other? Provide an example of\n",
    "each type of data."
   ]
  },
  {
   "cell_type": "markdown",
   "id": "1618f332-868d-4c13-b166-0951eb3867e6",
   "metadata": {},
   "source": [
    "There are many different types of data. Here are some examples:\n",
    "- Qualitative data: Data that can only be written in words, not numbers, for example, the colors of cars in a car park.\n",
    "- Quantitative data: Data that can be written in numbers, for example, the heights of children.\n",
    "- Discrete data: Numerical data that cannot be shown in decimals, for example, the number of children in a classroom.\n",
    "- Continuous data: Numerical data that can be shown in decimals, for example, the weight of a person.\n"
   ]
  },
  {
   "cell_type": "markdown",
   "id": "bdc82673-9d8e-4d29-aab2-82729d8ee57c",
   "metadata": {},
   "source": [
    "Q4. Categorise the following datasets with respect to quantitative and qualitative data types:\n",
    "\n",
    "(i) Grading in exam: A+, A, B+, B, C+, C, D, E\n",
    "\n",
    "(ii) Colour of mangoes: yellow, green, orange, red\n",
    "\n",
    "(iii) Height data of a class: [178.9, 179, 179.5, 176, 177.2, 178.3, 175.8,...]\n",
    "\n",
    "(iv) Number of mangoes exported by a farm: [500, 600, 478, 672, ...]"
   ]
  },
  {
   "cell_type": "markdown",
   "id": "c4f98c33-8542-446e-9292-184ab12e3193",
   "metadata": {},
   "source": [
    "I have categorise the dataset:\n",
    "\n",
    "\n",
    "(i) Grading in exam: A+, A, B+, B, C+, C, D, E -  Qualitative\n",
    "\n",
    "(ii) Colour of mangoes: yellow, green, orange, red -  Qualitative\n",
    "\n",
    "(iii) Height data of a class: [178.9, 179, 179.5, 176, 177.2, 178.3, 175.8,...] - Quantitative\n",
    "\n",
    "(iv) Number of mangoes exported by a farm: [500, 600, 478, 672, ...] - Quantitative"
   ]
  },
  {
   "cell_type": "markdown",
   "id": "fd2e6ed1-3c9b-47d6-9df6-7194315c005e",
   "metadata": {},
   "source": [
    "Q5. Explain the concept of levels of measurement and give an example of a variable for each level."
   ]
  },
  {
   "cell_type": "markdown",
   "id": "c9db6e9e-0f10-4e80-8458-8b4f0c2531a2",
   "metadata": {},
   "source": [
    "Levels of measurement is a classification used in statistics that links the values given to variables with one another. The information contained in the values is described using the level of measurement. There are four different levels of measurement: nominal, ordinal, interval and ratio.\n",
    "\n",
    "Nominal scale: When collecting data about people belonging to different gender categories in a population, a researcher can assign tags or placeholders for each category using the nominal scale.\n",
    "\n",
    "Ordinal scale: Suppose a researcher asks respondents about their attitude towards a recent change in the design of a product.\n",
    "Interval scale: A temperature scale is an example of an interval scale.\n",
    "\n",
    "Ratio scale: A weight scale is an example of a ratio scale."
   ]
  },
  {
   "cell_type": "markdown",
   "id": "e7504d16-6a85-456c-bea7-7c27b577d029",
   "metadata": {},
   "source": [
    "Q6. Why is it important to understand the level of measurement when analyzing data? Provide an\n",
    "example to illustrate your answer."
   ]
  },
  {
   "cell_type": "markdown",
   "id": "f0d84519-244a-445c-809a-c68451e2ba4b",
   "metadata": {},
   "source": [
    "Understanding the level of measurement is essential when analyzing data because it determines the type of statistical analysis that can be used on the data. Different levels of measurement have different properties, and not all statistical methods are appropriate for all levels of measurement.\n",
    "\n",
    "There are four levels of measurement: nominal, ordinal, interval, and ratio. Nominal and ordinal are referred to as categorical variables, while interval and ratio are referred to as continuous variables.\n",
    "\n",
    "For example, if we have data on people's eye colors (blue, brown, green, etc.), this is a nominal level of measurement. We can count the number of people in each category and compute the frequency of each category. However, we cannot perform calculations such as finding the average or the difference between two categories.\n",
    "\n",
    "On the other hand, if we have data on people's heights (measured in inches or centimeters), this is a ratio level of measurement. We can compute the mean, median, and standard deviation, and perform calculations such as finding the difference between two heights or the ratio of two heights.\n",
    "\n",
    "In short, understanding the level of measurement is important because it determines the appropriate statistical analysis that can be used on the data. Using the wrong statistical method on a dataset can lead to misleading conclusions and incorrect interpretations."
   ]
  },
  {
   "cell_type": "markdown",
   "id": "9369a14a-2d05-4f96-9603-f23f13c9d305",
   "metadata": {},
   "source": [
    "Q7. How nominal data type is different from ordinal data type."
   ]
  },
  {
   "cell_type": "markdown",
   "id": "54794ce7-9a60-446a-857a-3dafaacf10f1",
   "metadata": {},
   "source": [
    "Nominal data assigns names to each data point without placing it in some sort of order. For example, the results of a test could be each classified nominally as a “pass” or “fail.” Ordinal data involves placing information into an order. For instance, both nominal and ordinal data are evaluated using nonparametric statistics due to their categorical nature."
   ]
  },
  {
   "cell_type": "markdown",
   "id": "02f2aa37-45a7-481c-8e78-57c1e8661981",
   "metadata": {},
   "source": [
    "Q8. Which type of plot can be used to display data in terms of range?"
   ]
  },
  {
   "cell_type": "markdown",
   "id": "08206d6a-f5eb-4ff5-b057-a1370625226c",
   "metadata": {},
   "source": [
    "A box plot, also known as a box and whisker plot, is a type of plot that can be used to display data in terms of range. The box plot displays the minimum, first quartile, median, third quartile, and maximum values of a dataset in a concise and easy-to-read format."
   ]
  },
  {
   "cell_type": "markdown",
   "id": "a9888269-8da0-45b4-ad1d-284963500497",
   "metadata": {},
   "source": [
    "Q9. Describe the difference between descriptive and inferential statistics. Give an example of each\n",
    "type of statistics and explain how they are used."
   ]
  },
  {
   "cell_type": "markdown",
   "id": "293b75d0-137b-4b78-a860-65386e2aa8d8",
   "metadata": {},
   "source": [
    "Descriptive statistics are used to describe and summarize data using measures such as mean, median, mode, standard deviation, variance, etc. They help us understand the main features of a dataset and provide insights into its characteristics. For example, if you want to know the average height of students in a class, you can use descriptive statistics to calculate the mean height of all students.\n",
    "\n",
    "Inferential statistics are used to make predictions about a population based on a sample of data. They help us draw conclusions about a larger group based on a smaller sample. For example, if you want to know how many people in a city like pizza, you can survey a small group of people and use inferential statistics to estimate how many people in the city like pizza."
   ]
  },
  {
   "cell_type": "markdown",
   "id": "441f8300-b2a7-4459-80f9-7b268ede52db",
   "metadata": {},
   "source": [
    "Q10. What are some common measures of central tendency and variability used in statistics? Explain\n",
    "how each measure can be used to describe a dataset."
   ]
  },
  {
   "cell_type": "markdown",
   "id": "b11dc90f-c6b6-480a-a557-0f360df05ff6",
   "metadata": {},
   "source": [
    "In statistics, measures of central tendency and variability are used to describe the typical values and spread of a dataset.\n",
    "\n",
    "Measures of Central Tendency:\n",
    "Measures of central tendency are used to describe the central or typical value of a dataset. The three most common measures of central tendency are:\n",
    "\n",
    "Mean: The arithmetic mean is the sum of all values in the dataset divided by the number of values. The mean is sensitive to outliers and can be skewed by extreme values.\n",
    "\n",
    "Median: The median is the middle value in an ordered dataset. The median is more robust to outliers than the mean and is often used when the data is skewed or contains extreme values.\n",
    "\n",
    "Mode: The mode is the value that occurs most frequently in the dataset. The mode can be useful when the data is categorical or discrete, but may not exist or be unique in some datasets.\n",
    "\n",
    "Measures of Variability:\n",
    "\n",
    "Measures of variability are used to describe how spread out the values in a dataset are. The three most common measures of variability are:\n",
    "\n",
    "Range: The range is the difference between the maximum and minimum values in the dataset. The range is a simple measure of variability but is sensitive to outliers and may not be representative of the variability in the middle of the dataset.\n",
    "Variance: The variance is the average squared deviation from the mean. The variance provides a measure of the spread of the data but is less intuitive than other measures of variability.\n",
    "\n",
    "Standard Deviation: The standard deviation is the square root of the variance. The standard deviation is a widely used measure of variability because it is intuitive, can be used to calculate confidence intervals, and is related to the normal distribution."
   ]
  }
 ],
 "metadata": {
  "kernelspec": {
   "display_name": "Python 3 (ipykernel)",
   "language": "python",
   "name": "python3"
  },
  "language_info": {
   "codemirror_mode": {
    "name": "ipython",
    "version": 3
   },
   "file_extension": ".py",
   "mimetype": "text/x-python",
   "name": "python",
   "nbconvert_exporter": "python",
   "pygments_lexer": "ipython3",
   "version": "3.10.8"
  }
 },
 "nbformat": 4,
 "nbformat_minor": 5
}
