{
 "cells": [
  {
   "cell_type": "markdown",
   "id": "e490f33c-0b40-46be-915f-7b4dc931b401",
   "metadata": {},
   "source": [
    "Q1. Create a vehicle class with an init method having instance variables as name_of_vehicle, max_speed\n",
    "and average_of_vehicle."
   ]
  },
  {
   "cell_type": "code",
   "execution_count": 2,
   "id": "4265b0af-ad8f-48e5-81f9-dc445164f8d7",
   "metadata": {},
   "outputs": [
    {
     "data": {
      "text/plain": [
       "('Suzuki', 150, 25)"
      ]
     },
     "execution_count": 2,
     "metadata": {},
     "output_type": "execute_result"
    }
   ],
   "source": [
    "class vehicle:\n",
    "    \n",
    "    def __init__(self, vehicle_name, max_speed, average_of_vehicle):\n",
    "        self.name_of_vehicle = vehicle_name\n",
    "        self.max_speed = max_speed\n",
    "        self.average_of_vehicle = average_of_vehicle\n",
    "    \n",
    "    def show_detail(self):\n",
    "        return self.name_of_vehicle,self.max_speed, self.average_of_vehicle\n",
    "\n",
    "car = vehicle(\"Suzuki\", 150, 25)\n",
    "car.show_detail()"
   ]
  },
  {
   "cell_type": "markdown",
   "id": "09fd1dbc-4ca3-446d-bfa2-b0765319d582",
   "metadata": {},
   "source": [
    "Q2. Create a child class car from the vehicle class created in Que 1, which will inherit the vehicle class.\n",
    "Create a method named seating_capacity which takes capacity as an argument and returns the name of\n",
    "the vehicle and its seating capacity."
   ]
  },
  {
   "cell_type": "code",
   "execution_count": 6,
   "id": "4eefc76f-2f24-42ff-9dd1-9dd42d5c5c71",
   "metadata": {},
   "outputs": [
    {
     "data": {
      "text/plain": [
       "('Toyota', 6)"
      ]
     },
     "execution_count": 6,
     "metadata": {},
     "output_type": "execute_result"
    }
   ],
   "source": [
    "class vehicle_child(vehicle):\n",
    "    \n",
    "    def seating_capicity(self, seating_cap):\n",
    "        self.seating_cap = seating_cap\n",
    "        return self.name_of_vehicle, self.seating_cap\n",
    "    \n",
    "car1 =vehicle_child(\"Toyota\",160,40)\n",
    "car1.seating_capicity(6)"
   ]
  },
  {
   "cell_type": "markdown",
   "id": "efcb3b77-54b6-4296-86c4-e7d21ac3e635",
   "metadata": {},
   "source": [
    "Q3. What is multiple inheritance? Write a python code to demonstrate multiple inheritance."
   ]
  },
  {
   "cell_type": "code",
   "execution_count": 7,
   "id": "64317c28-2f6e-43ae-8dd2-8ed066e364d6",
   "metadata": {},
   "outputs": [
    {
     "name": "stdout",
     "output_type": "stream",
     "text": [
      "Parent1\n",
      "Paren2\n"
     ]
    }
   ],
   "source": [
    "'''Multiple inheritance is a feature in object-oriented programming (OOP) where a class can inherit properties\n",
    "and methods from multiple parent classes. In other words, a single child class can inherit attributes and behaviors\n",
    "from more than one parent class, resulting in a hierarchy of inheritance.'''\n",
    "\n",
    "#Example\n",
    "\n",
    "class Parent1:\n",
    "    def parent_method(self):\n",
    "        print(\"Parent1\")\n",
    "\n",
    "class Parent2:\n",
    "    def parent_method(self):\n",
    "        print(\"Paren2\")\n",
    "\n",
    "class Child(Parent1, Parent2):\n",
    "    def parent_method(self):\n",
    "        Parent1.parent_method(self)\n",
    "        Parent2.parent_method(self)\n",
    "\n",
    "child = Child()\n",
    "child.parent_method()\n"
   ]
  },
  {
   "cell_type": "markdown",
   "id": "3f2c3d37-4704-4df4-910c-b28e138e1035",
   "metadata": {},
   "source": [
    "Q4. What are getter and setter in python? Create a class and create a getter and a setter method in this\n",
    "class."
   ]
  },
  {
   "cell_type": "code",
   "execution_count": 15,
   "id": "0390c946-0f37-4d5e-a92a-a5c689917055",
   "metadata": {},
   "outputs": [
    {
     "name": "stdout",
     "output_type": "stream",
     "text": [
      "Rohan\n",
      "Ankit\n"
     ]
    }
   ],
   "source": [
    "'''In object-oriented programming, getter and setter methods are used to define the attributes of a class.\n",
    "Getter methods are used to retrieve the value of an attribute, and setter methods are used to set the value of an attribute.'''\n",
    "\n",
    "#Example\n",
    "\n",
    "class person:\n",
    "    \n",
    "    def __init__(self, name):\n",
    "        self.__name = name\n",
    "        \n",
    "    @property    \n",
    "    def show_name(self):\n",
    "        return self.__name\n",
    "    \n",
    "    @show_name.setter\n",
    "    def set_new_name(self, new_name):\n",
    "            self.__name = new_name\n",
    "\n",
    "p1 = person(\"Rohan\")\n",
    "print(p1.show_name)\n",
    "p1.set_new_name = \"Ankit\"\n",
    "print(p1.show_name)"
   ]
  },
  {
   "cell_type": "markdown",
   "id": "e12f8694-a801-4a04-bcb1-94acd944cb6a",
   "metadata": {},
   "source": [
    "Q5.What is method overriding in python? Write a python code to demonstrate method overriding."
   ]
  },
  {
   "cell_type": "code",
   "execution_count": 16,
   "id": "c920f9fb-d567-440f-b98d-22d4e2de4343",
   "metadata": {},
   "outputs": [
    {
     "name": "stdout",
     "output_type": "stream",
     "text": [
      "Hello from Child Class\n"
     ]
    }
   ],
   "source": [
    "'''Method overriding is a feature of object-oriented programming (OOP) where a child class can provide a new\n",
    "implementation for a method that it inherits from its parent class. This allows the child class to modify the\n",
    "behavior of the inherited method to better fit its needs.'''\n",
    "\n",
    "#example\n",
    "\n",
    "class ParentClass:\n",
    "    def message(self):\n",
    "        print(\"Hello from Parent Class\")\n",
    "\n",
    "class ChildClass(ParentClass):\n",
    "    def message(self):\n",
    "        print(\"Hello from Child Class\")\n",
    "\n",
    "obj = ChildClass()\n",
    "obj.message()\n"
   ]
  }
 ],
 "metadata": {
  "kernelspec": {
   "display_name": "Python 3 (ipykernel)",
   "language": "python",
   "name": "python3"
  },
  "language_info": {
   "codemirror_mode": {
    "name": "ipython",
    "version": 3
   },
   "file_extension": ".py",
   "mimetype": "text/x-python",
   "name": "python",
   "nbconvert_exporter": "python",
   "pygments_lexer": "ipython3",
   "version": "3.10.8"
  }
 },
 "nbformat": 4,
 "nbformat_minor": 5
}
