{
 "cells": [
  {
   "cell_type": "markdown",
   "id": "42a2d147-f78e-4ee8-8534-14b5fd722c82",
   "metadata": {},
   "source": [
    "Q1. Explain Class and Object with respect to Object-Oriented Programming. Give a suitable example."
   ]
  },
  {
   "cell_type": "code",
   "execution_count": 7,
   "id": "a956b36b-9565-4781-bbba-60ce10057e8a",
   "metadata": {},
   "outputs": [
    {
     "name": "stdout",
     "output_type": "stream",
     "text": [
      "2022\n",
      "('Red', 2019)\n"
     ]
    }
   ],
   "source": [
    "# Class\n",
    "'''A class can be thought of as a blueprint or a template for creating objects.\n",
    "It defines a set of properties (also known as attributes) and behaviors (methods)\n",
    "that are common to all objects of that type.'''\n",
    "\n",
    "#Object\n",
    "\n",
    "'''An object, on the other hand, is an instance of a class. It represents a specific\n",
    "entity with its own attributes and behaviors defined by the class. An object can be\n",
    "thought of as a specific real-world object, such as a person, a car, or a bank account.'''\n",
    "\n",
    "#Example\n",
    "\n",
    "#Class\n",
    "class Bike:\n",
    "    \n",
    "    def __init__(self, colour, model):\n",
    "        self.colour = colour\n",
    "        self.model = model\n",
    "    def return_bike_spec(self):\n",
    "        return self.colour, self.model\n",
    "\n",
    "#Object\n",
    "Yamaha = Bike('Red',2019)\n",
    "Hero = Bike('Blue', 2022)\n",
    "\n",
    "print(Hero.model)\n",
    "print(Yamaha.return_bike_spec())"
   ]
  },
  {
   "cell_type": "markdown",
   "id": "79f2bdb4-537a-48cf-a320-9fdf3cb840e6",
   "metadata": {},
   "source": [
    "Q2. Name the four pillars of OOPs."
   ]
  },
  {
   "cell_type": "markdown",
   "id": "7ef6b056-80b7-47db-8fcb-a0f939c184eb",
   "metadata": {},
   "source": [
    "1. Abstraction.\n",
    "2. Encapsulation.\n",
    "3. Inheritance.\n",
    "4. Polymorphism."
   ]
  },
  {
   "cell_type": "markdown",
   "id": "55e25809-1427-458b-b9dc-e843606d8fc8",
   "metadata": {},
   "source": [
    "Q3. Explain why the __init__() function is used. Give a suitable example."
   ]
  },
  {
   "cell_type": "code",
   "execution_count": 10,
   "id": "c83971b6-d0be-4c3b-80e2-f4334deb53a7",
   "metadata": {},
   "outputs": [
    {
     "data": {
      "text/plain": [
       "'Delhi'"
      ]
     },
     "execution_count": 10,
     "metadata": {},
     "output_type": "execute_result"
    }
   ],
   "source": [
    "'''The __init__ method (often referred to as the \"constructor\" method) is a special\n",
    "method in Python class which is automatically called when an object of the class is created.\n",
    "The __init__ method initializes the attributes of the class and is used to set the default\n",
    "values for the object's attributes.'''\n",
    "\n",
    "#example\n",
    "\n",
    "class person:\n",
    "    def __init__(self,age,address):\n",
    "        self.age = age\n",
    "        self.address = address\n",
    "    \n",
    "rohan = person(38, 'Delhi')\n",
    "rohan.address"
   ]
  },
  {
   "cell_type": "markdown",
   "id": "23027781-1cd6-4f3e-b58e-837133d3d767",
   "metadata": {},
   "source": [
    "Q4. Why self is used in OOPs?"
   ]
  },
  {
   "cell_type": "markdown",
   "id": "689e7da4-7b3d-4f0a-bca2-0aa770e1e51b",
   "metadata": {},
   "source": [
    "In Python, self is a reference to the instance of the class that is being used\n",
    "to call a method. It is used to access the attributes and methods of the class from\n",
    "within the class."
   ]
  },
  {
   "cell_type": "markdown",
   "id": "89bf4d90-2032-42e6-88f9-a8ca7ac3148e",
   "metadata": {},
   "source": [
    "Q5. What is inheritance? Give an example for each type of inheritance."
   ]
  },
  {
   "cell_type": "markdown",
   "id": "fd0518e9-e070-46c1-b287-1be7b80758ba",
   "metadata": {},
   "source": [
    "The method of inheriting the properties of parent class into a child class is known as inheritance. It is an OOP concept.\n",
    "1.Code reusability- we do not have to write the same code again and again, we can just inherit the properties we need in a child class.\n",
    "\n",
    "2.It represents a real world relationship between parent class and child class.\n",
    "\n",
    "3.It is transitive in nature. If a child class inherits properties from a parent class, then all other sub-classes of the child class will also inherit the properties of the parent class.\n",
    "\n",
    "There are total 4 types of inheritance in python:\n",
    "\n",
    "1. Simple\n",
    "2. Multiple\n",
    "3. Multilevel\n",
    "4. Hierarchical"
   ]
  },
  {
   "cell_type": "code",
   "execution_count": 16,
   "id": "27eb1d00-23ab-4f0e-810a-9f41637f327d",
   "metadata": {},
   "outputs": [
    {
     "name": "stdout",
     "output_type": "stream",
     "text": [
      "this is Parent class\n",
      " this is child class \n"
     ]
    }
   ],
   "source": [
    "# Simple\n",
    "class Parent:\n",
    "     def func1(self):\n",
    "          print(\"this is Parent class\")\n",
    "class Child(Parent):\n",
    "     def func2(self):\n",
    "          print(\" this is child class \")\n",
    "ob = Child()\n",
    "ob.func1()\n",
    "ob.func2()\n",
    "\n"
   ]
  },
  {
   "cell_type": "code",
   "execution_count": 17,
   "id": "f031d183-7cf6-44dc-985b-3b670bcbaa56",
   "metadata": {},
   "outputs": [
    {
     "name": "stdout",
     "output_type": "stream",
     "text": [
      "this is parent class\n",
      "this is parent class 2\n",
      "this is parent class 3\n"
     ]
    }
   ],
   "source": [
    "# Multiple\n",
    "class Parent:\n",
    "   def func1(self):\n",
    "        print(\"this is parent class\")\n",
    "class Parent2:\n",
    "   def func2(self):\n",
    "        print(\"this is parent class 2\")\n",
    "class Child(Parent , Parent2):\n",
    "    def func3(self):\n",
    "        print(\"this is parent class 3\")\n",
    " \n",
    "ob = Child()\n",
    "ob.func1()\n",
    "ob.func2()\n",
    "ob.func3()"
   ]
  },
  {
   "cell_type": "code",
   "execution_count": 24,
   "id": "b725e0bd-d831-4e36-a496-656cef8ed451",
   "metadata": {},
   "outputs": [
    {
     "name": "stdout",
     "output_type": "stream",
     "text": [
      "this is function 1\n",
      "this is function 2\n",
      "this is function 3\n"
     ]
    }
   ],
   "source": [
    "#Multilevel\n",
    "\n",
    "class Parent:\n",
    "      def func1(self):\n",
    "              print(\"this is function 1\")\n",
    "        \n",
    "class Child(Parent):\n",
    "      def func2(self):\n",
    "            print(\"this is function 2\")\n",
    "        \n",
    "class Child2(Child):\n",
    "      def func3(self):\n",
    "            print(\"this is function 3\")\n",
    "        \n",
    "ob = Child2()\n",
    "ob.func1()\n",
    "ob.func2()\n",
    "ob.func3()"
   ]
  },
  {
   "cell_type": "code",
   "execution_count": 28,
   "id": "0069137b-afbe-461e-9b9f-b06d95806f6c",
   "metadata": {},
   "outputs": [
    {
     "name": "stdout",
     "output_type": "stream",
     "text": [
      "this is function 1\n",
      "this is function 1\n"
     ]
    }
   ],
   "source": [
    "# Hierarchical\n",
    "\n",
    "class Parent:\n",
    "      def func1(self):\n",
    "          print(\"this is function 1\")\n",
    "class Child(Parent):\n",
    "      def func2(self):\n",
    "          print(\"this is function 2\")\n",
    "class Child2(Parent):\n",
    "      def func3(self):\n",
    "          print(\"this is function 3\")\n",
    " \n",
    "object1 = Child()\n",
    "object2 = Child2()\n",
    "object1.func1()\n",
    "object2.func1()"
   ]
  }
 ],
 "metadata": {
  "kernelspec": {
   "display_name": "Python 3 (ipykernel)",
   "language": "python",
   "name": "python3"
  },
  "language_info": {
   "codemirror_mode": {
    "name": "ipython",
    "version": 3
   },
   "file_extension": ".py",
   "mimetype": "text/x-python",
   "name": "python",
   "nbconvert_exporter": "python",
   "pygments_lexer": "ipython3",
   "version": "3.10.8"
  }
 },
 "nbformat": 4,
 "nbformat_minor": 5
}
