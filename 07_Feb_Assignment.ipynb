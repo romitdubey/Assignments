{
 "cells": [
  {
   "cell_type": "markdown",
   "id": "50ec090b-5c8e-443e-ad0b-ac1854d05c57",
   "metadata": {},
   "source": [
    "Q1. You are writing code for a company. The requirement of the company is that you create a python\n",
    "function that will check whether the password entered by the user is correct or not. The function should\n",
    "take the password as input and return the string “Valid Password” if the entered password follows the\n",
    "below-given password guidelines else it should return “Invalid Password”.\n",
    "\n",
    "Note: \n",
    "1. The Password should contain at least two uppercase letters and at least two lowercase letters.\n",
    "2. The Password should contain at least a number and three special characters.\n",
    "3. The length of the password should be 10 characters long."
   ]
  },
  {
   "cell_type": "code",
   "execution_count": 19,
   "id": "029d773f-a02f-4074-aa40-ee77cc083853",
   "metadata": {},
   "outputs": [
    {
     "name": "stdin",
     "output_type": "stream",
     "text": [
      "Enter the Password PWskil1@#$\n"
     ]
    },
    {
     "name": "stdout",
     "output_type": "stream",
     "text": [
      "Valid Password\n"
     ]
    }
   ],
   "source": [
    "user_input = input(\"Enter the Password\")\n",
    "\n",
    "upper_count = 0\n",
    "lower_count = 0\n",
    "num_count = 0\n",
    "special_count = 0\n",
    "if len(user_input) == 10:\n",
    "    for i in user_input:\n",
    "        if i.isupper():\n",
    "            upper_count += 1\n",
    "        elif i.islower():\n",
    "            lower_count += 1\n",
    "        elif i.isdigit():\n",
    "            num_count += 1\n",
    "        else:\n",
    "            special_count += 1\n",
    "    if upper_count >= 2 and lower_count >= 2 and special_count >= 3 and num_count >=1:\n",
    "        print(\"Valid Password\")\n",
    "            \n",
    "    else:\n",
    "        print(\"Invalid Password\")\n",
    "else:\n",
    "    print(\"Enter only 10 character long\")\n",
    "    "
   ]
  },
  {
   "cell_type": "markdown",
   "id": "f26d5d84-1068-426b-95d1-98e8716cf37c",
   "metadata": {},
   "source": [
    "Q2. Solve the below-given questions using at least one of the following:\n",
    "1. Lambda function\n",
    "2. Filter function\n",
    "3. Zap function\n",
    "4. List Comprehension\n",
    "\n",
    "Check if the string starts with a particular letter\n",
    "\n",
    "Check if the string is numeric\n",
    "\n",
    "Sort a list of tuples having fruit names and their quantity. [(\"mango\",99),(\"orange\",80), (\"grapes\", 1000)]\n",
    "\n",
    "Find the squares of numbers from 1 to 10\n",
    "\n",
    "Find the cube root of numbers from 1 to 10\n",
    "\n",
    "Check if a given number is even\n",
    "\n",
    "Filter odd numbers from the given list.\n",
    "\n",
    "[1,2,3,4,5,6,7,8,9,10]\n",
    "\n",
    "Sort a list of integers into positive and negative integers lists.\n",
    "\n",
    "[1,2,3,4,5,6,-1,-2,-3,-4,-5,0]"
   ]
  },
  {
   "cell_type": "code",
   "execution_count": 51,
   "id": "87cfa96e-eb74-4a74-8008-840856f8088a",
   "metadata": {},
   "outputs": [
    {
     "name": "stdin",
     "output_type": "stream",
     "text": [
      "Enter a string:  Data Science\n"
     ]
    },
    {
     "name": "stdout",
     "output_type": "stream",
     "text": [
      "Yes, This string is start from letter D\n"
     ]
    }
   ],
   "source": [
    "# Check if the string starts with a particular letter\n",
    "\n",
    "input1 = input(\"Enter a string: \")\n",
    "\n",
    "result = lambda x : x[0] == 'D'\n",
    "result(input1)\n",
    "if result(input1):\n",
    "    print(\"Yes, This string is start from letter D\")\n",
    "else:\n",
    "    print(\"No, This string is not start from letter D\")\n",
    "    "
   ]
  },
  {
   "cell_type": "code",
   "execution_count": 49,
   "id": "fa47a703-f36b-4518-8f22-bc57552a755d",
   "metadata": {},
   "outputs": [
    {
     "name": "stdin",
     "output_type": "stream",
     "text": [
      "Enter a string:  25566\n"
     ]
    },
    {
     "name": "stdout",
     "output_type": "stream",
     "text": [
      "Yes It is numeric\n"
     ]
    }
   ],
   "source": [
    "# Check if the string is numeric\n",
    "\n",
    "input2 = input(\"Enter a string: \")\n",
    "\n",
    "result1 = lambda x : i.isdigit()\n",
    "flag = True\n",
    "for i in input2:\n",
    "    flag = result1(i)\n",
    "if flag:\n",
    "    print(\"Yes It is numeric\")\n",
    "else:\n",
    "    print(\"No It is not a numeric\")"
   ]
  },
  {
   "cell_type": "code",
   "execution_count": 24,
   "id": "4ab1289a-e2f3-4bcf-b48d-cc2f0483e86b",
   "metadata": {},
   "outputs": [
    {
     "name": "stdout",
     "output_type": "stream",
     "text": [
      "[('orange', 80), ('mango', 99), ('grapes', 1000)]\n"
     ]
    }
   ],
   "source": [
    "# Sort a list of tuples having fruit names and their quantity. [(\"mango\",99),(\"orange\",80), (\"grapes\", 1000)]\n",
    "\n",
    "fruits = [(\"mango\", 99), (\"orange\", 80), (\"grapes\", 1000)]\n",
    "sorted_fruits = sorted(fruits, key=lambda x: x[1])\n",
    "print(sorted_fruits)\n",
    "\n",
    "\n"
   ]
  },
  {
   "cell_type": "code",
   "execution_count": 1,
   "id": "77c98b92-c968-4ae7-8799-524412c40512",
   "metadata": {},
   "outputs": [
    {
     "name": "stdout",
     "output_type": "stream",
     "text": [
      "1\n",
      "4\n",
      "9\n",
      "16\n",
      "25\n",
      "36\n",
      "49\n",
      "64\n",
      "81\n",
      "100\n"
     ]
    }
   ],
   "source": [
    "# Find the squares of numbers from 1 to 10\n",
    "\n",
    "square = lambda x : x**2\n",
    "\n",
    "i = 1\n",
    "while i <= 10:\n",
    "    print(square(i))\n",
    "    i += 1"
   ]
  },
  {
   "cell_type": "code",
   "execution_count": 3,
   "id": "112f8e4f-7379-4168-a55a-539f572542cc",
   "metadata": {},
   "outputs": [
    {
     "name": "stdout",
     "output_type": "stream",
     "text": [
      "1\n",
      "8\n",
      "27\n",
      "64\n",
      "125\n",
      "216\n",
      "343\n",
      "512\n",
      "729\n",
      "1000\n"
     ]
    }
   ],
   "source": [
    "#vFind the cube root of numbers from 1 to 10\n",
    "\n",
    "cube = lambda x : x**3\n",
    "\n",
    "i = 1\n",
    "while i <= 10:\n",
    "    print(cube(i))\n",
    "    i += 1"
   ]
  },
  {
   "cell_type": "code",
   "execution_count": 6,
   "id": "e80226df-972f-4d62-b868-294a8b8c9fa0",
   "metadata": {},
   "outputs": [
    {
     "name": "stdout",
     "output_type": "stream",
     "text": [
      "Even Number\n"
     ]
    }
   ],
   "source": [
    "# Check if a given number is even\n",
    "\n",
    "even = lambda x : x%2 == 0\n",
    "\n",
    "if even:\n",
    "    print(\"Even Number\")\n",
    "else:\n",
    "    print(\"Not a Even number\")"
   ]
  },
  {
   "cell_type": "code",
   "execution_count": 9,
   "id": "ba5fff35-3809-4538-bc28-0f9f384586c7",
   "metadata": {},
   "outputs": [
    {
     "data": {
      "text/plain": [
       "[1, 3, 5, 7, 9]"
      ]
     },
     "execution_count": 9,
     "metadata": {},
     "output_type": "execute_result"
    }
   ],
   "source": [
    "# Filter odd numbers from the given list. [1,2,3,4,5,6,7,8,9,10]\n",
    "\n",
    "list3=[1,2,3,4,5,6,7,8,9,10]\n",
    "\n",
    "[i for i in list3 if i%2 != 0]"
   ]
  },
  {
   "cell_type": "code",
   "execution_count": 21,
   "id": "354c1cf0-6026-42d3-8aa7-9b1797c397ea",
   "metadata": {},
   "outputs": [
    {
     "name": "stdout",
     "output_type": "stream",
     "text": [
      "[-1, -2, -3, -4, -5]\n",
      "[1, 2, 3, 4, 5, 6]\n"
     ]
    }
   ],
   "source": [
    "#Sort a list of integers into positive and negative integers lists.  [1,2,3,4,5,6,-1,-2,-3,-4,-5,0]\n",
    "\n",
    "list4= [1,2,3,4,5,6,-1,-2,-3,-4,-5,0]\n",
    "\n",
    "positive = list(filter(lambda x : x <0, list4))\n",
    "negative = list(filter(lambda x : x >0, list4))\n",
    "\n",
    "print(positive)\n",
    "print(negative)"
   ]
  }
 ],
 "metadata": {
  "kernelspec": {
   "display_name": "Python 3 (ipykernel)",
   "language": "python",
   "name": "python3"
  },
  "language_info": {
   "codemirror_mode": {
    "name": "ipython",
    "version": 3
   },
   "file_extension": ".py",
   "mimetype": "text/x-python",
   "name": "python",
   "nbconvert_exporter": "python",
   "pygments_lexer": "ipython3",
   "version": "3.10.8"
  }
 },
 "nbformat": 4,
 "nbformat_minor": 5
}
