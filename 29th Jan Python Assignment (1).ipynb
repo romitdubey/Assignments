{
 "cells": [
  {
   "cell_type": "raw",
   "id": "5db71118-648d-492d-9f7c-d7bd42b3f25c",
   "metadata": {},
   "source": [
    "Q1. Who developed Python Programming Language?\n",
    "A1. Guido van Rossum"
   ]
  },
  {
   "cell_type": "raw",
   "id": "d1fe8ae0-1c62-4788-8c4a-efeea730c3aa",
   "metadata": {},
   "source": [
    "Q2. Which type of Programming does Python support? \n",
    "A2. Object-oriented programming and structured programming."
   ]
  },
  {
   "cell_type": "raw",
   "id": "b91d460e-d905-4bf8-bbcc-3eb73f0fe9e6",
   "metadata": {},
   "source": [
    "Q3. Is Python case sensitive when dealing with identifiers?\n",
    "A3. Yes"
   ]
  },
  {
   "cell_type": "raw",
   "id": "14916d38-1339-4142-b679-03cb8934cacf",
   "metadata": {},
   "source": [
    "Q4. What is the correct extension of the Python file?\n",
    "A4. .py"
   ]
  },
  {
   "cell_type": "raw",
   "id": "fece1a2f-20f6-42cd-bbf2-5ad63934ea00",
   "metadata": {},
   "source": [
    "Q5. Is Python code compiled or interpreted?\n",
    "A5. Python is both compiled and interpreted languageb"
   ]
  },
  {
   "cell_type": "raw",
   "id": "11827f4c-e81e-4ffe-9e61-832d932c0f88",
   "metadata": {},
   "source": [
    "Q6. Name a few blocks of code used to define in Python language?\n",
    "A6. indentation"
   ]
  },
  {
   "cell_type": "raw",
   "id": "0665c71c-c117-46fd-a93c-19c01734bbee",
   "metadata": {},
   "source": [
    "Q7. State a character used to give single-line comments in Python?\n",
    "A7. (#)"
   ]
  },
  {
   "cell_type": "raw",
   "id": "71fb737a-5064-46ff-b008-2f4f6863cd2b",
   "metadata": {},
   "source": [
    "Q8. Mention functions which can help us to find the version of python that we are currently working on?\n",
    "A8. sys.version"
   ]
  },
  {
   "cell_type": "raw",
   "id": "7568a953-4f70-4fa8-8bb7-83113b87a8ec",
   "metadata": {},
   "source": [
    "Q9. Python supports the creation of anonymous functions at runtime, using a construct called\n",
    "A9. lambda"
   ]
  },
  {
   "cell_type": "raw",
   "id": "8c6f5cac-5540-4ea8-a2f3-f2323145756f",
   "metadata": {},
   "source": [
    "Q10. What does pip stand for python?\n",
    "A10. preferred installer program"
   ]
  },
  {
   "cell_type": "raw",
   "id": "2174dd91-0f7a-4192-84b7-27f6edf5f4a7",
   "metadata": {},
   "source": [
    "Q11. Mention a few built-in functions in python?\n",
    "A11. print, type, input, max"
   ]
  },
  {
   "cell_type": "raw",
   "id": "67c4f2ce-8a1c-405d-bccd-6ab3da8de65c",
   "metadata": {},
   "source": [
    "Q12. What is the maximum possible length of an identifier in Python?\n",
    "A12. 79 characters"
   ]
  },
  {
   "cell_type": "raw",
   "id": "07470033-1ed0-4a05-ae6f-1c25050fee47",
   "metadata": {},
   "source": [
    "Q13. What are the benefits of using Python?\n",
    "A13. Python is open-source, and easy to learn. There are many libraries available in python for Data Science."
   ]
  },
  {
   "cell_type": "raw",
   "id": "cde08cc2-f1f3-4281-a8c3-7e6572361eb5",
   "metadata": {},
   "source": [
    "Q14. How is memory managed in Python?\n",
    "A14. Python use garbage colletor to manage the memory"
   ]
  },
  {
   "cell_type": "raw",
   "id": "4ed16aee-9ac6-462d-8642-cdde840bf6ad",
   "metadata": {},
   "source": [
    "Q15. How to install Python on Windows and set path variables?\n",
    "A15. For installing python we need to go the official website of python and download it and install it. While installing there is option \n",
    "to set the path variable so we have to tick that option and click the intall button."
   ]
  },
  {
   "cell_type": "raw",
   "id": "21fc2370-bf4c-49e5-949c-7be4299cefb4",
   "metadata": {},
   "source": [
    "Q16. Is indentation required in python?\n",
    "A16. Yes indentation required in python."
   ]
  }
 ],
 "metadata": {
  "kernelspec": {
   "display_name": "Python 3 (ipykernel)",
   "language": "python",
   "name": "python3"
  },
  "language_info": {
   "codemirror_mode": {
    "name": "ipython",
    "version": 3
   },
   "file_extension": ".py",
   "mimetype": "text/x-python",
   "name": "python",
   "nbconvert_exporter": "python",
   "pygments_lexer": "ipython3",
   "version": "3.10.8"
  }
 },
 "nbformat": 4,
 "nbformat_minor": 5
}
